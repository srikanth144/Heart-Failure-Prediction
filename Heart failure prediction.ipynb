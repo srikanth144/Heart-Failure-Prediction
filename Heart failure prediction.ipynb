{
 "cells": [
  {
   "cell_type": "code",
   "execution_count": 1,
   "metadata": {
    "scrolled": true
   },
   "outputs": [
    {
     "name": "stderr",
     "output_type": "stream",
     "text": [
      "C:\\Users\\sys\\anaconda3\\lib\\site-packages\\sklearn\\utils\\deprecation.py:143: FutureWarning: The sklearn.utils.testing module is  deprecated in version 0.22 and will be removed in version 0.24. The corresponding classes / functions should instead be imported from sklearn.utils. Anything that cannot be imported from sklearn.utils is now part of the private API.\n",
      "  warnings.warn(message, FutureWarning)\n"
     ]
    }
   ],
   "source": [
    "import pyforest as pf\n",
    "from sklearn import model_selection\n",
    "from lazypredict.Supervised import LazyClassifier"
   ]
  },
  {
   "cell_type": "code",
   "execution_count": 2,
   "metadata": {},
   "outputs": [
    {
     "data": {
      "application/javascript": [
       "\n",
       "        if (window._pyforest_update_imports_cell) { window._pyforest_update_imports_cell('import pandas as pd'); }\n",
       "    "
      ],
      "text/plain": [
       "<IPython.core.display.Javascript object>"
      ]
     },
     "metadata": {},
     "output_type": "display_data"
    }
   ],
   "source": [
    "data = pd.read_csv(\"E:\\\\Deployement\\\\heart.csv\")"
   ]
  },
  {
   "cell_type": "code",
   "execution_count": 3,
   "metadata": {
    "scrolled": false
   },
   "outputs": [
    {
     "data": {
      "text/html": [
       "<div>\n",
       "<style scoped>\n",
       "    .dataframe tbody tr th:only-of-type {\n",
       "        vertical-align: middle;\n",
       "    }\n",
       "\n",
       "    .dataframe tbody tr th {\n",
       "        vertical-align: top;\n",
       "    }\n",
       "\n",
       "    .dataframe thead th {\n",
       "        text-align: right;\n",
       "    }\n",
       "</style>\n",
       "<table border=\"1\" class=\"dataframe\">\n",
       "  <thead>\n",
       "    <tr style=\"text-align: right;\">\n",
       "      <th></th>\n",
       "      <th>Age</th>\n",
       "      <th>Sex</th>\n",
       "      <th>ChestPainType</th>\n",
       "      <th>RestingBP</th>\n",
       "      <th>Cholesterol</th>\n",
       "      <th>FastingBS</th>\n",
       "      <th>RestingECG</th>\n",
       "      <th>MaxHR</th>\n",
       "      <th>ExerciseAngina</th>\n",
       "      <th>Oldpeak</th>\n",
       "      <th>ST_Slope</th>\n",
       "      <th>HeartDisease</th>\n",
       "    </tr>\n",
       "  </thead>\n",
       "  <tbody>\n",
       "    <tr>\n",
       "      <th>0</th>\n",
       "      <td>40</td>\n",
       "      <td>M</td>\n",
       "      <td>ATA</td>\n",
       "      <td>140</td>\n",
       "      <td>289</td>\n",
       "      <td>0</td>\n",
       "      <td>Normal</td>\n",
       "      <td>172</td>\n",
       "      <td>N</td>\n",
       "      <td>0.00</td>\n",
       "      <td>Up</td>\n",
       "      <td>0</td>\n",
       "    </tr>\n",
       "    <tr>\n",
       "      <th>1</th>\n",
       "      <td>49</td>\n",
       "      <td>F</td>\n",
       "      <td>NAP</td>\n",
       "      <td>160</td>\n",
       "      <td>180</td>\n",
       "      <td>0</td>\n",
       "      <td>Normal</td>\n",
       "      <td>156</td>\n",
       "      <td>N</td>\n",
       "      <td>1.00</td>\n",
       "      <td>Flat</td>\n",
       "      <td>1</td>\n",
       "    </tr>\n",
       "    <tr>\n",
       "      <th>2</th>\n",
       "      <td>37</td>\n",
       "      <td>M</td>\n",
       "      <td>ATA</td>\n",
       "      <td>130</td>\n",
       "      <td>283</td>\n",
       "      <td>0</td>\n",
       "      <td>ST</td>\n",
       "      <td>98</td>\n",
       "      <td>N</td>\n",
       "      <td>0.00</td>\n",
       "      <td>Up</td>\n",
       "      <td>0</td>\n",
       "    </tr>\n",
       "    <tr>\n",
       "      <th>3</th>\n",
       "      <td>48</td>\n",
       "      <td>F</td>\n",
       "      <td>ASY</td>\n",
       "      <td>138</td>\n",
       "      <td>214</td>\n",
       "      <td>0</td>\n",
       "      <td>Normal</td>\n",
       "      <td>108</td>\n",
       "      <td>Y</td>\n",
       "      <td>1.50</td>\n",
       "      <td>Flat</td>\n",
       "      <td>1</td>\n",
       "    </tr>\n",
       "    <tr>\n",
       "      <th>4</th>\n",
       "      <td>54</td>\n",
       "      <td>M</td>\n",
       "      <td>NAP</td>\n",
       "      <td>150</td>\n",
       "      <td>195</td>\n",
       "      <td>0</td>\n",
       "      <td>Normal</td>\n",
       "      <td>122</td>\n",
       "      <td>N</td>\n",
       "      <td>0.00</td>\n",
       "      <td>Up</td>\n",
       "      <td>0</td>\n",
       "    </tr>\n",
       "  </tbody>\n",
       "</table>\n",
       "</div>"
      ],
      "text/plain": [
       "   Age Sex ChestPainType  RestingBP  Cholesterol  FastingBS RestingECG  MaxHR  \\\n",
       "0   40   M           ATA        140          289          0     Normal    172   \n",
       "1   49   F           NAP        160          180          0     Normal    156   \n",
       "2   37   M           ATA        130          283          0         ST     98   \n",
       "3   48   F           ASY        138          214          0     Normal    108   \n",
       "4   54   M           NAP        150          195          0     Normal    122   \n",
       "\n",
       "  ExerciseAngina  Oldpeak ST_Slope  HeartDisease  \n",
       "0              N     0.00       Up             0  \n",
       "1              N     1.00     Flat             1  \n",
       "2              N     0.00       Up             0  \n",
       "3              Y     1.50     Flat             1  \n",
       "4              N     0.00       Up             0  "
      ]
     },
     "execution_count": 3,
     "metadata": {},
     "output_type": "execute_result"
    }
   ],
   "source": [
    "data.head()"
   ]
  },
  {
   "cell_type": "code",
   "execution_count": 4,
   "metadata": {},
   "outputs": [
    {
     "data": {
      "text/plain": [
       "(918, 12)"
      ]
     },
     "execution_count": 4,
     "metadata": {},
     "output_type": "execute_result"
    }
   ],
   "source": [
    "data.shape"
   ]
  },
  {
   "cell_type": "markdown",
   "metadata": {},
   "source": [
    "# Attribute Information"
   ]
  },
  {
   "cell_type": "markdown",
   "metadata": {},
   "source": [
    "Age:           age of the patient [years]\n",
    "\n",
    "Sex:           sex of the patient [M: Male, F: Female]\n",
    "\n",
    "ChestPainType: chest pain type [TA: Typical Angina, ATA: Atypical Angina, NAP: Non-Anginal Pain, ASY: Asymptomatic]\n",
    "\n",
    "RestingBP:     resting blood pressure [mm Hg]\n",
    "\n",
    "Cholesterol:   serum cholesterol [mm/dl]\n",
    "\n",
    "FastingBS:     fasting blood sugar [1: if FastingBS > 120 mg/dl, 0: otherwise]\n",
    "\n",
    "RestingECG:    resting electrocardiogram results [Normal: Normal, ST: having ST-T wave abnormality (T wave inversions and/or ST \n",
    "\n",
    "elevation or depression of > 0.05 mV), LVH: showing probable or definite left ventricular hypertrophy by Estes' criteria]\n",
    "\n",
    "MaxHR:         maximum heart rate achieved [Numeric value between 60 and 202]\n",
    "\n",
    "ExerciseAngina: exercise-induced angina [Y: Yes, N: No]\n",
    "\n",
    "Oldpeak: oldpeak = ST [Numeric value measured in depression]\n",
    "\n",
    "ST_Slope:     the slope of the peak exercise ST segment [Up: upsloping, Flat: flat, Down: downsloping]\n",
    "\n",
    "HeartDisease: output class [1: heart disease, 0: Normal]"
   ]
  },
  {
   "cell_type": "markdown",
   "metadata": {},
   "source": [
    "# Data collection - Secondary collection method"
   ]
  },
  {
   "cell_type": "code",
   "execution_count": 5,
   "metadata": {
    "scrolled": true
   },
   "outputs": [
    {
     "data": {
      "text/plain": [
       "'Acknowledgements\\nCreators:\\n\\nHungarian Institute of Cardiology. Budapest: Andras Janosi, M.D.\\nUniversity Hospital, Zurich, Switzerland: William Steinbrunn, M.D.\\nUniversity Hospital, Basel, Switzerland: Matthias Pfisterer, M.D.\\nV.A. Medical Center, Long Beach and Cleveland Clinic Foundation: Robert Detrano, M.D., Ph.D.'"
      ]
     },
     "execution_count": 5,
     "metadata": {},
     "output_type": "execute_result"
    }
   ],
   "source": [
    "\"\"\"This dataset was created by combining different datasets already available independently but not combined before.\n",
    "In this dataset, 5 heart datasets are combined over 11 common features which makes it the largest heart disease dataset \n",
    "available so far for research purposes. The five datasets used for its curation are:\n",
    "\n",
    "Cleveland: 303 observations\n",
    "Hungarian: 294 observations\n",
    "Switzerland: 123 observations\n",
    "Long Beach VA: 200 observations\n",
    "Stalog (Heart) Data Set: 270 observations\n",
    "Total: 1190 observations\n",
    "Duplicated: 272 observations\n",
    "\n",
    "Final dataset: 918 observations\"\"\"\n",
    "\n",
    "\"\"\"Acknowledgements\n",
    "Creators:\n",
    "\n",
    "Hungarian Institute of Cardiology. Budapest: Andras Janosi, M.D.\n",
    "University Hospital, Zurich, Switzerland: William Steinbrunn, M.D.\n",
    "University Hospital, Basel, Switzerland: Matthias Pfisterer, M.D.\n",
    "V.A. Medical Center, Long Beach and Cleveland Clinic Foundation: Robert Detrano, M.D., Ph.D.\"\"\""
   ]
  },
  {
   "cell_type": "markdown",
   "metadata": {},
   "source": [
    "# Data preprocessing"
   ]
  },
  {
   "cell_type": "code",
   "execution_count": 6,
   "metadata": {
    "scrolled": true
   },
   "outputs": [
    {
     "data": {
      "text/plain": [
       "Age               0\n",
       "Sex               0\n",
       "ChestPainType     0\n",
       "RestingBP         0\n",
       "Cholesterol       0\n",
       "FastingBS         0\n",
       "RestingECG        0\n",
       "MaxHR             0\n",
       "ExerciseAngina    0\n",
       "Oldpeak           0\n",
       "ST_Slope          0\n",
       "HeartDisease      0\n",
       "dtype: int64"
      ]
     },
     "execution_count": 6,
     "metadata": {},
     "output_type": "execute_result"
    }
   ],
   "source": [
    "# Dealing with missing values\n",
    "data.isnull().sum()   # the data has no missing values"
   ]
  },
  {
   "cell_type": "code",
   "execution_count": 7,
   "metadata": {
    "scrolled": true
   },
   "outputs": [
    {
     "data": {
      "application/javascript": [
       "\n",
       "        if (window._pyforest_update_imports_cell) { window._pyforest_update_imports_cell('import pandas as pd\\nimport seaborn as sns'); }\n",
       "    "
      ],
      "text/plain": [
       "<IPython.core.display.Javascript object>"
      ]
     },
     "metadata": {},
     "output_type": "display_data"
    },
    {
     "name": "stdout",
     "output_type": "stream",
     "text": [
      "AxesSubplot(0.125,0.125;0.775x0.755)\n"
     ]
    },
    {
     "data": {
      "image/png": "[encoded data removed]",
      "text/plain": [
       "<Figure size 432x288 with 1 Axes>"
      ]
     },
     "metadata": {
      "needs_background": "light"
     },
     "output_type": "display_data"
    }
   ],
   "source": [
    "# Dealing with outliers = Age,RestingBP,Cholesterol,MaxHR are numeric attributes\n",
    "print(sns.boxplot(data['Age']))"
   ]
  },
  {
   "cell_type": "code",
   "execution_count": 8,
   "metadata": {},
   "outputs": [
    {
     "data": {
      "application/javascript": [
       "\n",
       "        if (window._pyforest_update_imports_cell) { window._pyforest_update_imports_cell('import pandas as pd\\nimport seaborn as sns\\nimport numpy as np'); }\n",
       "    "
      ],
      "text/plain": [
       "<IPython.core.display.Javascript object>"
      ]
     },
     "metadata": {},
     "output_type": "display_data"
    },
    {
     "data": {
      "application/javascript": [
       "\n",
       "        if (window._pyforest_update_imports_cell) { window._pyforest_update_imports_cell('import pandas as pd\\nimport seaborn as sns\\nimport numpy as np'); }\n",
       "    "
      ],
      "text/plain": [
       "<IPython.core.display.Javascript object>"
      ]
     },
     "metadata": {},
     "output_type": "display_data"
    }
   ],
   "source": [
    "data['Cholesterol'] = np.where(data['Cholesterol']>350,data['Cholesterol'].mean(),data['Cholesterol'])\n",
    "data['Cholesterol'] = np.where(data['Cholesterol']<100,data['Cholesterol'].mean(),data['Cholesterol'])"
   ]
  },
  {
   "cell_type": "code",
   "execution_count": 9,
   "metadata": {
    "scrolled": false
   },
   "outputs": [
    {
     "data": {
      "application/javascript": [
       "\n",
       "        if (window._pyforest_update_imports_cell) { window._pyforest_update_imports_cell('import pandas as pd\\nimport seaborn as sns\\nimport numpy as np'); }\n",
       "    "
      ],
      "text/plain": [
       "<IPython.core.display.Javascript object>"
      ]
     },
     "metadata": {},
     "output_type": "display_data"
    },
    {
     "name": "stdout",
     "output_type": "stream",
     "text": [
      "AxesSubplot(0.125,0.125;0.775x0.755)\n"
     ]
    },
    {
     "data": {
      "image/png": "[encoded data removed]",
      "text/plain": [
       "<Figure size 432x288 with 1 Axes>"
      ]
     },
     "metadata": {
      "needs_background": "light"
     },
     "output_type": "display_data"
    }
   ],
   "source": [
    "print(sns.boxplot(data['Cholesterol']))"
   ]
  },
  {
   "cell_type": "code",
   "execution_count": 10,
   "metadata": {},
   "outputs": [
    {
     "data": {
      "application/javascript": [
       "\n",
       "        if (window._pyforest_update_imports_cell) { window._pyforest_update_imports_cell('import pandas as pd\\nimport seaborn as sns\\nimport numpy as np'); }\n",
       "    "
      ],
      "text/plain": [
       "<IPython.core.display.Javascript object>"
      ]
     },
     "metadata": {},
     "output_type": "display_data"
    }
   ],
   "source": [
    "data['MaxHR'] = np.where(data['MaxHR']<70,data['MaxHR'].mean(),data['MaxHR'])"
   ]
  },
  {
   "cell_type": "code",
   "execution_count": 11,
   "metadata": {
    "scrolled": false
   },
   "outputs": [
    {
     "data": {
      "application/javascript": [
       "\n",
       "        if (window._pyforest_update_imports_cell) { window._pyforest_update_imports_cell('import pandas as pd\\nimport seaborn as sns\\nimport numpy as np'); }\n",
       "    "
      ],
      "text/plain": [
       "<IPython.core.display.Javascript object>"
      ]
     },
     "metadata": {},
     "output_type": "display_data"
    },
    {
     "name": "stdout",
     "output_type": "stream",
     "text": [
      "AxesSubplot(0.125,0.125;0.775x0.755)\n"
     ]
    },
    {
     "data": {
      "image/png": "[encoded data removed]",
      "text/plain": [
       "<Figure size 432x288 with 1 Axes>"
      ]
     },
     "metadata": {
      "needs_background": "light"
     },
     "output_type": "display_data"
    }
   ],
   "source": [
    "print(sns.boxplot(data['MaxHR']))"
   ]
  },
  {
   "cell_type": "code",
   "execution_count": 12,
   "metadata": {},
   "outputs": [
    {
     "data": {
      "application/javascript": [
       "\n",
       "        if (window._pyforest_update_imports_cell) { window._pyforest_update_imports_cell('import pandas as pd\\nimport seaborn as sns\\nimport numpy as np'); }\n",
       "    "
      ],
      "text/plain": [
       "<IPython.core.display.Javascript object>"
      ]
     },
     "metadata": {},
     "output_type": "display_data"
    },
    {
     "data": {
      "application/javascript": [
       "\n",
       "        if (window._pyforest_update_imports_cell) { window._pyforest_update_imports_cell('import pandas as pd\\nimport seaborn as sns\\nimport numpy as np'); }\n",
       "    "
      ],
      "text/plain": [
       "<IPython.core.display.Javascript object>"
      ]
     },
     "metadata": {},
     "output_type": "display_data"
    }
   ],
   "source": [
    "data['RestingBP'] = np.where(data['RestingBP']>170,data['RestingBP'].mean(),data['RestingBP'])\n",
    "data['RestingBP'] = np.where(data['RestingBP']<90,data['RestingBP'].mean(),data['RestingBP'])\n"
   ]
  },
  {
   "cell_type": "code",
   "execution_count": 13,
   "metadata": {
    "scrolled": true
   },
   "outputs": [
    {
     "data": {
      "application/javascript": [
       "\n",
       "        if (window._pyforest_update_imports_cell) { window._pyforest_update_imports_cell('import pandas as pd\\nimport seaborn as sns\\nimport numpy as np'); }\n",
       "    "
      ],
      "text/plain": [
       "<IPython.core.display.Javascript object>"
      ]
     },
     "metadata": {},
     "output_type": "display_data"
    },
    {
     "name": "stdout",
     "output_type": "stream",
     "text": [
      "AxesSubplot(0.125,0.125;0.775x0.755)\n"
     ]
    },
    {
     "data": {
      "image/png": "[encoded data removed]",
      "text/plain": [
       "<Figure size 432x288 with 1 Axes>"
      ]
     },
     "metadata": {
      "needs_background": "light"
     },
     "output_type": "display_data"
    }
   ],
   "source": [
    "print(sns.boxplot(data['RestingBP']))"
   ]
  },
  {
   "cell_type": "code",
   "execution_count": 14,
   "metadata": {},
   "outputs": [],
   "source": [
    "x = data.iloc[:,:-1]\n",
    "y = data.iloc[:,-1]"
   ]
  },
  {
   "cell_type": "code",
   "execution_count": 15,
   "metadata": {},
   "outputs": [
    {
     "name": "stdout",
     "output_type": "stream",
     "text": [
      "(918, 11)\n",
      "(918,)\n"
     ]
    }
   ],
   "source": [
    "print(x.shape)\n",
    "print(y.shape)"
   ]
  },
  {
   "cell_type": "code",
   "execution_count": 16,
   "metadata": {
    "scrolled": false
   },
   "outputs": [
    {
     "data": {
      "text/plain": [
       "1    508\n",
       "0    410\n",
       "Name: HeartDisease, dtype: int64"
      ]
     },
     "execution_count": 16,
     "metadata": {},
     "output_type": "execute_result"
    }
   ],
   "source": [
    "# checking whether dataset is balanced or not\n",
    "y.value_counts()  "
   ]
  },
  {
   "cell_type": "markdown",
   "metadata": {},
   "source": [
    "# One-Hot encoding"
   ]
  },
  {
   "cell_type": "code",
   "execution_count": 17,
   "metadata": {
    "scrolled": false
   },
   "outputs": [
    {
     "data": {
      "text/html": [
       "<div>\n",
       "<style scoped>\n",
       "    .dataframe tbody tr th:only-of-type {\n",
       "        vertical-align: middle;\n",
       "    }\n",
       "\n",
       "    .dataframe tbody tr th {\n",
       "        vertical-align: top;\n",
       "    }\n",
       "\n",
       "    .dataframe thead th {\n",
       "        text-align: right;\n",
       "    }\n",
       "</style>\n",
       "<table border=\"1\" class=\"dataframe\">\n",
       "  <thead>\n",
       "    <tr style=\"text-align: right;\">\n",
       "      <th></th>\n",
       "      <th>Age</th>\n",
       "      <th>Sex</th>\n",
       "      <th>ChestPainType</th>\n",
       "      <th>RestingBP</th>\n",
       "      <th>Cholesterol</th>\n",
       "      <th>FastingBS</th>\n",
       "      <th>RestingECG</th>\n",
       "      <th>MaxHR</th>\n",
       "      <th>ExerciseAngina</th>\n",
       "      <th>Oldpeak</th>\n",
       "      <th>ST_Slope</th>\n",
       "    </tr>\n",
       "  </thead>\n",
       "  <tbody>\n",
       "    <tr>\n",
       "      <th>0</th>\n",
       "      <td>40</td>\n",
       "      <td>M</td>\n",
       "      <td>ATA</td>\n",
       "      <td>140.00</td>\n",
       "      <td>289.00</td>\n",
       "      <td>0</td>\n",
       "      <td>Normal</td>\n",
       "      <td>172.00</td>\n",
       "      <td>N</td>\n",
       "      <td>0.00</td>\n",
       "      <td>Up</td>\n",
       "    </tr>\n",
       "    <tr>\n",
       "      <th>1</th>\n",
       "      <td>49</td>\n",
       "      <td>F</td>\n",
       "      <td>NAP</td>\n",
       "      <td>160.00</td>\n",
       "      <td>180.00</td>\n",
       "      <td>0</td>\n",
       "      <td>Normal</td>\n",
       "      <td>156.00</td>\n",
       "      <td>N</td>\n",
       "      <td>1.00</td>\n",
       "      <td>Flat</td>\n",
       "    </tr>\n",
       "  </tbody>\n",
       "</table>\n",
       "</div>"
      ],
      "text/plain": [
       "   Age Sex ChestPainType  RestingBP  Cholesterol  FastingBS RestingECG  MaxHR  \\\n",
       "0   40   M           ATA     140.00       289.00          0     Normal 172.00   \n",
       "1   49   F           NAP     160.00       180.00          0     Normal 156.00   \n",
       "\n",
       "  ExerciseAngina  Oldpeak ST_Slope  \n",
       "0              N     0.00       Up  \n",
       "1              N     1.00     Flat  "
      ]
     },
     "execution_count": 17,
     "metadata": {},
     "output_type": "execute_result"
    }
   ],
   "source": [
    "x.head(2)"
   ]
  },
  {
   "cell_type": "code",
   "execution_count": 18,
   "metadata": {},
   "outputs": [],
   "source": [
    "x['Sex'].replace({'M':1,'F':0},inplace=True)\n",
    "x['ExerciseAngina'].replace({\"N\":0,\"Y\":1},inplace = True)"
   ]
  },
  {
   "cell_type": "code",
   "execution_count": 19,
   "metadata": {},
   "outputs": [
    {
     "data": {
      "application/javascript": [
       "\n",
       "        if (window._pyforest_update_imports_cell) { window._pyforest_update_imports_cell('import pandas as pd\\nimport seaborn as sns\\nimport numpy as np'); }\n",
       "    "
      ],
      "text/plain": [
       "<IPython.core.display.Javascript object>"
      ]
     },
     "metadata": {},
     "output_type": "display_data"
    }
   ],
   "source": [
    "x = pd.get_dummies(x,columns = ['ChestPainType','RestingECG','ST_Slope'])"
   ]
  },
  {
   "cell_type": "code",
   "execution_count": 20,
   "metadata": {
    "scrolled": true
   },
   "outputs": [
    {
     "data": {
      "text/plain": [
       "(918, 18)"
      ]
     },
     "execution_count": 20,
     "metadata": {},
     "output_type": "execute_result"
    }
   ],
   "source": [
    "x.shape"
   ]
  },
  {
   "cell_type": "code",
   "execution_count": 21,
   "metadata": {},
   "outputs": [],
   "source": [
    "names = x.columns"
   ]
  },
  {
   "cell_type": "markdown",
   "metadata": {},
   "source": [
    "# Feature Scaling"
   ]
  },
  {
   "cell_type": "code",
   "execution_count": 22,
   "metadata": {},
   "outputs": [
    {
     "data": {
      "application/javascript": [
       "\n",
       "        if (window._pyforest_update_imports_cell) { window._pyforest_update_imports_cell('import pandas as pd\\nimport sklearn\\nimport seaborn as sns\\nimport numpy as np'); }\n",
       "    "
      ],
      "text/plain": [
       "<IPython.core.display.Javascript object>"
      ]
     },
     "metadata": {},
     "output_type": "display_data"
    }
   ],
   "source": [
    "x = sklearn.preprocessing.minmax_scale(x,feature_range=(0,1))"
   ]
  },
  {
   "cell_type": "code",
   "execution_count": 23,
   "metadata": {},
   "outputs": [
    {
     "data": {
      "application/javascript": [
       "\n",
       "        if (window._pyforest_update_imports_cell) { window._pyforest_update_imports_cell('import pandas as pd\\nimport sklearn\\nimport seaborn as sns\\nimport numpy as np'); }\n",
       "    "
      ],
      "text/plain": [
       "<IPython.core.display.Javascript object>"
      ]
     },
     "metadata": {},
     "output_type": "display_data"
    }
   ],
   "source": [
    "x =pd.DataFrame(x,columns=names)"
   ]
  },
  {
   "cell_type": "code",
   "execution_count": 24,
   "metadata": {},
   "outputs": [
    {
     "data": {
      "text/html": [
       "<div>\n",
       "<style scoped>\n",
       "    .dataframe tbody tr th:only-of-type {\n",
       "        vertical-align: middle;\n",
       "    }\n",
       "\n",
       "    .dataframe tbody tr th {\n",
       "        vertical-align: top;\n",
       "    }\n",
       "\n",
       "    .dataframe thead th {\n",
       "        text-align: right;\n",
       "    }\n",
       "</style>\n",
       "<table border=\"1\" class=\"dataframe\">\n",
       "  <thead>\n",
       "    <tr style=\"text-align: right;\">\n",
       "      <th></th>\n",
       "      <th>Age</th>\n",
       "      <th>Sex</th>\n",
       "      <th>RestingBP</th>\n",
       "      <th>Cholesterol</th>\n",
       "      <th>FastingBS</th>\n",
       "      <th>MaxHR</th>\n",
       "      <th>ExerciseAngina</th>\n",
       "      <th>Oldpeak</th>\n",
       "      <th>ChestPainType_ASY</th>\n",
       "      <th>ChestPainType_ATA</th>\n",
       "      <th>ChestPainType_NAP</th>\n",
       "      <th>ChestPainType_TA</th>\n",
       "      <th>RestingECG_LVH</th>\n",
       "      <th>RestingECG_Normal</th>\n",
       "      <th>RestingECG_ST</th>\n",
       "      <th>ST_Slope_Down</th>\n",
       "      <th>ST_Slope_Flat</th>\n",
       "      <th>ST_Slope_Up</th>\n",
       "    </tr>\n",
       "  </thead>\n",
       "  <tbody>\n",
       "    <tr>\n",
       "      <th>0</th>\n",
       "      <td>0.24</td>\n",
       "      <td>1.00</td>\n",
       "      <td>0.62</td>\n",
       "      <td>0.76</td>\n",
       "      <td>0.00</td>\n",
       "      <td>0.77</td>\n",
       "      <td>0.00</td>\n",
       "      <td>0.30</td>\n",
       "      <td>0.00</td>\n",
       "      <td>1.00</td>\n",
       "      <td>0.00</td>\n",
       "      <td>0.00</td>\n",
       "      <td>0.00</td>\n",
       "      <td>1.00</td>\n",
       "      <td>0.00</td>\n",
       "      <td>0.00</td>\n",
       "      <td>0.00</td>\n",
       "      <td>1.00</td>\n",
       "    </tr>\n",
       "    <tr>\n",
       "      <th>1</th>\n",
       "      <td>0.43</td>\n",
       "      <td>0.00</td>\n",
       "      <td>0.87</td>\n",
       "      <td>0.32</td>\n",
       "      <td>0.00</td>\n",
       "      <td>0.65</td>\n",
       "      <td>0.00</td>\n",
       "      <td>0.41</td>\n",
       "      <td>0.00</td>\n",
       "      <td>0.00</td>\n",
       "      <td>1.00</td>\n",
       "      <td>0.00</td>\n",
       "      <td>0.00</td>\n",
       "      <td>1.00</td>\n",
       "      <td>0.00</td>\n",
       "      <td>0.00</td>\n",
       "      <td>1.00</td>\n",
       "      <td>0.00</td>\n",
       "    </tr>\n",
       "    <tr>\n",
       "      <th>2</th>\n",
       "      <td>0.18</td>\n",
       "      <td>1.00</td>\n",
       "      <td>0.49</td>\n",
       "      <td>0.73</td>\n",
       "      <td>0.00</td>\n",
       "      <td>0.21</td>\n",
       "      <td>0.00</td>\n",
       "      <td>0.30</td>\n",
       "      <td>0.00</td>\n",
       "      <td>1.00</td>\n",
       "      <td>0.00</td>\n",
       "      <td>0.00</td>\n",
       "      <td>0.00</td>\n",
       "      <td>0.00</td>\n",
       "      <td>1.00</td>\n",
       "      <td>0.00</td>\n",
       "      <td>0.00</td>\n",
       "      <td>1.00</td>\n",
       "    </tr>\n",
       "  </tbody>\n",
       "</table>\n",
       "</div>"
      ],
      "text/plain": [
       "   Age  Sex  RestingBP  Cholesterol  FastingBS  MaxHR  ExerciseAngina  \\\n",
       "0 0.24 1.00       0.62         0.76       0.00   0.77            0.00   \n",
       "1 0.43 0.00       0.87         0.32       0.00   0.65            0.00   \n",
       "2 0.18 1.00       0.49         0.73       0.00   0.21            0.00   \n",
       "\n",
       "   Oldpeak  ChestPainType_ASY  ChestPainType_ATA  ChestPainType_NAP  \\\n",
       "0     0.30               0.00               1.00               0.00   \n",
       "1     0.41               0.00               0.00               1.00   \n",
       "2     0.30               0.00               1.00               0.00   \n",
       "\n",
       "   ChestPainType_TA  RestingECG_LVH  RestingECG_Normal  RestingECG_ST  \\\n",
       "0              0.00            0.00               1.00           0.00   \n",
       "1              0.00            0.00               1.00           0.00   \n",
       "2              0.00            0.00               0.00           1.00   \n",
       "\n",
       "   ST_Slope_Down  ST_Slope_Flat  ST_Slope_Up  \n",
       "0           0.00           0.00         1.00  \n",
       "1           0.00           1.00         0.00  \n",
       "2           0.00           0.00         1.00  "
      ]
     },
     "execution_count": 24,
     "metadata": {},
     "output_type": "execute_result"
    }
   ],
   "source": [
    "x.head(3)"
   ]
  },
  {
   "cell_type": "markdown",
   "metadata": {},
   "source": [
    "# Identifying the best classification model"
   ]
  },
  {
   "cell_type": "code",
   "execution_count": 25,
   "metadata": {},
   "outputs": [],
   "source": [
    "x_train,x_test,y_train,y_test = model_selection.train_test_split(x,y,test_size = 0.2,random_state = 123)"
   ]
  },
  {
   "cell_type": "code",
   "execution_count": 26,
   "metadata": {},
   "outputs": [
    {
     "data": {
      "application/javascript": [
       "\n",
       "        if (window._pyforest_update_imports_cell) { window._pyforest_update_imports_cell('import seaborn as sns\\nimport xgboost as xgb\\nimport numpy as np\\nimport pandas as pd\\nimport sklearn'); }\n",
       "    "
      ],
      "text/plain": [
       "<IPython.core.display.Javascript object>"
      ]
     },
     "metadata": {},
     "output_type": "display_data"
    },
    {
     "data": {
      "application/javascript": [
       "\n",
       "        if (window._pyforest_update_imports_cell) { window._pyforest_update_imports_cell('import seaborn as sns\\nimport xgboost as xgb\\nimport numpy as np\\nimport pandas as pd\\nimport sklearn'); }\n",
       "    "
      ],
      "text/plain": [
       "<IPython.core.display.Javascript object>"
      ]
     },
     "metadata": {},
     "output_type": "display_data"
    },
    {
     "data": {
      "application/javascript": [
       "\n",
       "        if (window._pyforest_update_imports_cell) { window._pyforest_update_imports_cell('import seaborn as sns\\nimport xgboost as xgb\\nimport numpy as np\\nimport pandas as pd\\nimport sklearn'); }\n",
       "    "
      ],
      "text/plain": [
       "<IPython.core.display.Javascript object>"
      ]
     },
     "metadata": {},
     "output_type": "display_data"
    },
    {
     "data": {
      "application/javascript": [
       "\n",
       "        if (window._pyforest_update_imports_cell) { window._pyforest_update_imports_cell('import seaborn as sns\\nimport xgboost as xgb\\nimport numpy as np\\nimport pandas as pd\\nimport sklearn'); }\n",
       "    "
      ],
      "text/plain": [
       "<IPython.core.display.Javascript object>"
      ]
     },
     "metadata": {},
     "output_type": "display_data"
    },
    {
     "data": {
      "application/javascript": [
       "\n",
       "        if (window._pyforest_update_imports_cell) { window._pyforest_update_imports_cell('import seaborn as sns\\nimport xgboost as xgb\\nimport numpy as np\\nimport pandas as pd\\nimport sklearn'); }\n",
       "    "
      ],
      "text/plain": [
       "<IPython.core.display.Javascript object>"
      ]
     },
     "metadata": {},
     "output_type": "display_data"
    },
    {
     "data": {
      "application/javascript": [
       "\n",
       "        if (window._pyforest_update_imports_cell) { window._pyforest_update_imports_cell('import seaborn as sns\\nimport xgboost as xgb\\nimport numpy as np\\nimport pandas as pd\\nimport sklearn'); }\n",
       "    "
      ],
      "text/plain": [
       "<IPython.core.display.Javascript object>"
      ]
     },
     "metadata": {},
     "output_type": "display_data"
    }
   ],
   "source": [
    "XGBoost = xgb.XGBClassifier()\n",
    "Rand_forest = sklearn.ensemble.RandomForestClassifier()\n",
    "svm = sklearn.svm.SVC()\n",
    "Dtree = sklearn.tree.DecisionTreeClassifier()\n",
    "GBM = sklearn.ensemble.GradientBoostingClassifier()\n",
    "log = sklearn.linear_model.LogisticRegression()"
   ]
  },
  {
   "cell_type": "code",
   "execution_count": 27,
   "metadata": {},
   "outputs": [
    {
     "data": {
      "text/plain": [
       "LogisticRegression()"
      ]
     },
     "execution_count": 27,
     "metadata": {},
     "output_type": "execute_result"
    }
   ],
   "source": [
    "XGBoost.fit(x_train,y_train)\n",
    "Rand_forest.fit(x_train,y_train)\n",
    "svm.fit(x_train,y_train)\n",
    "Dtree.fit(x_train,y_train)\n",
    "GBM.fit(x_train,y_train)\n",
    "log.fit(x_train,y_train)"
   ]
  },
  {
   "cell_type": "code",
   "execution_count": 28,
   "metadata": {},
   "outputs": [],
   "source": [
    "p1 = XGBoost.predict(x_train)\n",
    "p2 = Rand_forest.predict(x_train)\n",
    "p3 = svm.predict(x_train)\n",
    "p4 = Dtree.predict(x_train)\n",
    "p5 = GBM.predict(x_train)\n",
    "p6 = log.predict(x_train)"
   ]
  },
  {
   "cell_type": "code",
   "execution_count": 29,
   "metadata": {
    "scrolled": true
   },
   "outputs": [
    {
     "data": {
      "application/javascript": [
       "\n",
       "        if (window._pyforest_update_imports_cell) { window._pyforest_update_imports_cell('import seaborn as sns\\nfrom sklearn import metrics\\nimport numpy as np\\nimport xgboost as xgb\\nimport pandas as pd\\nimport sklearn'); }\n",
       "    "
      ],
      "text/plain": [
       "<IPython.core.display.Javascript object>"
      ]
     },
     "metadata": {},
     "output_type": "display_data"
    },
    {
     "name": "stdout",
     "output_type": "stream",
     "text": [
      "xgboost: 1.0\n"
     ]
    },
    {
     "data": {
      "application/javascript": [
       "\n",
       "        if (window._pyforest_update_imports_cell) { window._pyforest_update_imports_cell('import seaborn as sns\\nfrom sklearn import metrics\\nimport numpy as np\\nimport xgboost as xgb\\nimport pandas as pd\\nimport sklearn'); }\n",
       "    "
      ],
      "text/plain": [
       "<IPython.core.display.Javascript object>"
      ]
     },
     "metadata": {},
     "output_type": "display_data"
    },
    {
     "name": "stdout",
     "output_type": "stream",
     "text": [
      "Rand_forest: 1.0\n"
     ]
    },
    {
     "data": {
      "application/javascript": [
       "\n",
       "        if (window._pyforest_update_imports_cell) { window._pyforest_update_imports_cell('import seaborn as sns\\nfrom sklearn import metrics\\nimport numpy as np\\nimport xgboost as xgb\\nimport pandas as pd\\nimport sklearn'); }\n",
       "    "
      ],
      "text/plain": [
       "<IPython.core.display.Javascript object>"
      ]
     },
     "metadata": {},
     "output_type": "display_data"
    },
    {
     "name": "stdout",
     "output_type": "stream",
     "text": [
      "svm: 0.8923705722070845\n"
     ]
    },
    {
     "data": {
      "application/javascript": [
       "\n",
       "        if (window._pyforest_update_imports_cell) { window._pyforest_update_imports_cell('import seaborn as sns\\nfrom sklearn import metrics\\nimport numpy as np\\nimport xgboost as xgb\\nimport pandas as pd\\nimport sklearn'); }\n",
       "    "
      ],
      "text/plain": [
       "<IPython.core.display.Javascript object>"
      ]
     },
     "metadata": {},
     "output_type": "display_data"
    },
    {
     "name": "stdout",
     "output_type": "stream",
     "text": [
      "Dtree: 1.0\n"
     ]
    },
    {
     "data": {
      "application/javascript": [
       "\n",
       "        if (window._pyforest_update_imports_cell) { window._pyforest_update_imports_cell('import seaborn as sns\\nfrom sklearn import metrics\\nimport numpy as np\\nimport xgboost as xgb\\nimport pandas as pd\\nimport sklearn'); }\n",
       "    "
      ],
      "text/plain": [
       "<IPython.core.display.Javascript object>"
      ]
     },
     "metadata": {},
     "output_type": "display_data"
    },
    {
     "name": "stdout",
     "output_type": "stream",
     "text": [
      "GBM: 0.9495912806539509\n"
     ]
    },
    {
     "data": {
      "application/javascript": [
       "\n",
       "        if (window._pyforest_update_imports_cell) { window._pyforest_update_imports_cell('import seaborn as sns\\nfrom sklearn import metrics\\nimport numpy as np\\nimport xgboost as xgb\\nimport pandas as pd\\nimport sklearn'); }\n",
       "    "
      ],
      "text/plain": [
       "<IPython.core.display.Javascript object>"
      ]
     },
     "metadata": {},
     "output_type": "display_data"
    },
    {
     "name": "stdout",
     "output_type": "stream",
     "text": [
      "log: 0.8692098092643051\n"
     ]
    }
   ],
   "source": [
    "print(\"xgboost:\",metrics.accuracy_score(y_train,p1))\n",
    "print(\"Rand_forest:\",metrics.accuracy_score(y_train,p2))\n",
    "print(\"svm:\",metrics.accuracy_score(y_train,p3))\n",
    "print(\"Dtree:\",metrics.accuracy_score(y_train,p4))\n",
    "print(\"GBM:\",metrics.accuracy_score(y_train,p5))\n",
    "print(\"log:\",metrics.accuracy_score(y_train,p6))"
   ]
  },
  {
   "cell_type": "markdown",
   "metadata": {},
   "source": [
    "out all classifiers xgb,randomforest and Dtree are leading to specific prediction and svm,logistic and GBM are good,picking GBM which is optimum"
   ]
  },
  {
   "cell_type": "markdown",
   "metadata": {},
   "source": [
    "# Identifying the Best parameters combination using Gridsearchcv"
   ]
  },
  {
   "cell_type": "code",
   "execution_count": 30,
   "metadata": {
    "scrolled": false
   },
   "outputs": [
    {
     "data": {
      "text/plain": [
       "GradientBoostingClassifier()"
      ]
     },
     "execution_count": 30,
     "metadata": {},
     "output_type": "execute_result"
    }
   ],
   "source": [
    "GBM"
   ]
  },
  {
   "cell_type": "code",
   "execution_count": 31,
   "metadata": {
    "scrolled": true
   },
   "outputs": [],
   "source": [
    "parameters = {\n",
    "              \"loss\":[\"deviance\",\"exponential\"],\n",
    "              \"max_features\":[\"log2\",\"sqrt\"],\n",
    "              'learning_rate': [0.1,0.25,0.5,0.75,1.0],\n",
    "              'n_estimators': [5,10,15,20,25]}\n"
   ]
  },
  {
   "cell_type": "code",
   "execution_count": 32,
   "metadata": {},
   "outputs": [
    {
     "data": {
      "application/javascript": [
       "\n",
       "        if (window._pyforest_update_imports_cell) { window._pyforest_update_imports_cell('import seaborn as sns\\nfrom sklearn import metrics\\nimport numpy as np\\nimport xgboost as xgb\\nimport pandas as pd\\nimport sklearn'); }\n",
       "    "
      ],
      "text/plain": [
       "<IPython.core.display.Javascript object>"
      ]
     },
     "metadata": {},
     "output_type": "display_data"
    }
   ],
   "source": [
    "Grid_search = sklearn.model_selection.GridSearchCV(estimator=GBM,param_grid=parameters,cv=10)"
   ]
  },
  {
   "cell_type": "code",
   "execution_count": 33,
   "metadata": {
    "scrolled": true
   },
   "outputs": [
    {
     "data": {
      "text/plain": [
       "GridSearchCV(cv=10, estimator=GradientBoostingClassifier(),\n",
       "             param_grid={'learning_rate': [0.1, 0.25, 0.5, 0.75, 1.0],\n",
       "                         'loss': ['deviance', 'exponential'],\n",
       "                         'max_features': ['log2', 'sqrt'],\n",
       "                         'n_estimators': [5, 10, 15, 20, 25]})"
      ]
     },
     "execution_count": 33,
     "metadata": {},
     "output_type": "execute_result"
    }
   ],
   "source": [
    "Grid_search.fit(x_train,y_train)"
   ]
  },
  {
   "cell_type": "code",
   "execution_count": 34,
   "metadata": {},
   "outputs": [
    {
     "data": {
      "text/plain": [
       "{'learning_rate': 0.25,\n",
       " 'loss': 'exponential',\n",
       " 'max_features': 'log2',\n",
       " 'n_estimators': 20}"
      ]
     },
     "execution_count": 34,
     "metadata": {},
     "output_type": "execute_result"
    }
   ],
   "source": [
    "Grid_search.best_params_  # best combination,which gives better accuracy"
   ]
  },
  {
   "cell_type": "code",
   "execution_count": 35,
   "metadata": {},
   "outputs": [],
   "source": [
    "gd = Grid_search.predict(x_train)"
   ]
  },
  {
   "cell_type": "code",
   "execution_count": 36,
   "metadata": {},
   "outputs": [
    {
     "data": {
      "application/javascript": [
       "\n",
       "        if (window._pyforest_update_imports_cell) { window._pyforest_update_imports_cell('import seaborn as sns\\nfrom sklearn import metrics\\nimport numpy as np\\nimport xgboost as xgb\\nimport pandas as pd\\nimport sklearn'); }\n",
       "    "
      ],
      "text/plain": [
       "<IPython.core.display.Javascript object>"
      ]
     },
     "metadata": {},
     "output_type": "display_data"
    },
    {
     "data": {
      "text/plain": [
       "0.9019073569482289"
      ]
     },
     "execution_count": 36,
     "metadata": {},
     "output_type": "execute_result"
    }
   ],
   "source": [
    "metrics.accuracy_score(gd,y_train) # training accuracy of the model"
   ]
  },
  {
   "cell_type": "markdown",
   "metadata": {},
   "source": [
    "# Parameter-Tuned Model "
   ]
  },
  {
   "cell_type": "code",
   "execution_count": 37,
   "metadata": {},
   "outputs": [
    {
     "data": {
      "application/javascript": [
       "\n",
       "        if (window._pyforest_update_imports_cell) { window._pyforest_update_imports_cell('import seaborn as sns\\nfrom sklearn import metrics\\nimport numpy as np\\nimport xgboost as xgb\\nimport pandas as pd\\nimport sklearn'); }\n",
       "    "
      ],
      "text/plain": [
       "<IPython.core.display.Javascript object>"
      ]
     },
     "metadata": {},
     "output_type": "display_data"
    },
    {
     "data": {
      "application/javascript": [
       "\n",
       "        if (window._pyforest_update_imports_cell) { window._pyforest_update_imports_cell('import seaborn as sns\\nfrom sklearn import metrics\\nimport numpy as np\\nimport xgboost as xgb\\nimport pandas as pd\\nimport sklearn'); }\n",
       "    "
      ],
      "text/plain": [
       "<IPython.core.display.Javascript object>"
      ]
     },
     "metadata": {},
     "output_type": "display_data"
    },
    {
     "data": {
      "text/plain": [
       "0.9128065395095368"
      ]
     },
     "execution_count": 37,
     "metadata": {},
     "output_type": "execute_result"
    }
   ],
   "source": [
    "# Model building and fitting the data\n",
    "Model = sklearn.ensemble.GradientBoostingClassifier(learning_rate=0.25,loss='exponential',max_features='sqrt',n_estimators=25)\n",
    "Model.fit(x_train,y_train)\n",
    "y_tp= Model.predict(x_train)\n",
    "sklearn.metrics.accuracy_score(y_train,y_tp)"
   ]
  },
  {
   "cell_type": "code",
   "execution_count": 38,
   "metadata": {},
   "outputs": [
    {
     "data": {
      "application/javascript": [
       "\n",
       "        if (window._pyforest_update_imports_cell) { window._pyforest_update_imports_cell('import seaborn as sns\\nfrom sklearn import metrics\\nimport numpy as np\\nimport xgboost as xgb\\nimport pandas as pd\\nimport sklearn'); }\n",
       "    "
      ],
      "text/plain": [
       "<IPython.core.display.Javascript object>"
      ]
     },
     "metadata": {},
     "output_type": "display_data"
    },
    {
     "data": {
      "text/plain": [
       "0.8695652173913043"
      ]
     },
     "execution_count": 38,
     "metadata": {},
     "output_type": "execute_result"
    }
   ],
   "source": [
    "# predicting with test data\n",
    "y_pred = Model.predict(x_test)\n",
    "sklearn.metrics.accuracy_score(y_test,y_pred)"
   ]
  },
  {
   "cell_type": "markdown",
   "metadata": {},
   "source": [
    "# Model Perfomance metrics"
   ]
  },
  {
   "cell_type": "markdown",
   "metadata": {},
   "source": [
    "# confusion matrix ,classification report,precession,recall and f1score"
   ]
  },
  {
   "cell_type": "code",
   "execution_count": 39,
   "metadata": {
    "scrolled": true
   },
   "outputs": [
    {
     "data": {
      "application/javascript": [
       "\n",
       "        if (window._pyforest_update_imports_cell) { window._pyforest_update_imports_cell('import seaborn as sns\\nfrom sklearn import metrics\\nimport numpy as np\\nimport xgboost as xgb\\nimport pandas as pd\\nimport sklearn'); }\n",
       "    "
      ],
      "text/plain": [
       "<IPython.core.display.Javascript object>"
      ]
     },
     "metadata": {},
     "output_type": "display_data"
    },
    {
     "data": {
      "text/plain": [
       "array([[64, 17],\n",
       "       [ 7, 96]], dtype=int64)"
      ]
     },
     "execution_count": 39,
     "metadata": {},
     "output_type": "execute_result"
    }
   ],
   "source": [
    "conf_matrix = sklearn.metrics.confusion_matrix(y_test,y_pred)\n",
    "\n",
    "conf_matrix"
   ]
  },
  {
   "cell_type": "code",
   "execution_count": 40,
   "metadata": {},
   "outputs": [
    {
     "data": {
      "application/javascript": [
       "\n",
       "        if (window._pyforest_update_imports_cell) { window._pyforest_update_imports_cell('import seaborn as sns\\nfrom sklearn import metrics\\nimport numpy as np\\nimport xgboost as xgb\\nimport pandas as pd\\nimport sklearn'); }\n",
       "    "
      ],
      "text/plain": [
       "<IPython.core.display.Javascript object>"
      ]
     },
     "metadata": {},
     "output_type": "display_data"
    },
    {
     "data": {
      "application/javascript": [
       "\n",
       "        if (window._pyforest_update_imports_cell) { window._pyforest_update_imports_cell('import seaborn as sns\\nfrom sklearn import metrics\\nimport numpy as np\\nimport xgboost as xgb\\nimport pandas as pd\\nimport sklearn'); }\n",
       "    "
      ],
      "text/plain": [
       "<IPython.core.display.Javascript object>"
      ]
     },
     "metadata": {},
     "output_type": "display_data"
    },
    {
     "data": {
      "application/javascript": [
       "\n",
       "        if (window._pyforest_update_imports_cell) { window._pyforest_update_imports_cell('import seaborn as sns\\nfrom sklearn import metrics\\nimport numpy as np\\nimport xgboost as xgb\\nimport pandas as pd\\nimport sklearn'); }\n",
       "    "
      ],
      "text/plain": [
       "<IPython.core.display.Javascript object>"
      ]
     },
     "metadata": {},
     "output_type": "display_data"
    },
    {
     "data": {
      "application/javascript": [
       "\n",
       "        if (window._pyforest_update_imports_cell) { window._pyforest_update_imports_cell('import seaborn as sns\\nfrom sklearn import metrics\\nimport numpy as np\\nimport xgboost as xgb\\nimport pandas as pd\\nimport sklearn'); }\n",
       "    "
      ],
      "text/plain": [
       "<IPython.core.display.Javascript object>"
      ]
     },
     "metadata": {},
     "output_type": "display_data"
    }
   ],
   "source": [
    "Accuracy  = metrics.accuracy_score(y_test,y_pred)\n",
    "Precesion = metrics.precision_score(y_test,y_pred)\n",
    "Recall = metrics.recall_score(y_test,y_pred)\n",
    "F1_score = metrics.f1_score(y_test,y_pred)"
   ]
  },
  {
   "cell_type": "code",
   "execution_count": 41,
   "metadata": {},
   "outputs": [
    {
     "name": "stdout",
     "output_type": "stream",
     "text": [
      "[[64 17]\n",
      " [ 7 96]]\n",
      "Accuracy: 0.8695652173913043\n",
      "Precesion: 0.8495575221238938\n",
      "Recall: 0.9320388349514563\n",
      "F1-score: 0.888888888888889\n"
     ]
    }
   ],
   "source": [
    "print(conf_matrix)\n",
    "print(\"Accuracy:\",Accuracy)\n",
    "print(\"Precesion:\",Precesion)\n",
    "print(\"Recall:\",Recall)\n",
    "print(\"F1-score:\",F1_score)"
   ]
  },
  {
   "cell_type": "markdown",
   "metadata": {},
   "source": [
    "# ROC and AUC"
   ]
  },
  {
   "cell_type": "code",
   "execution_count": 42,
   "metadata": {
    "scrolled": true
   },
   "outputs": [
    {
     "data": {
      "application/javascript": [
       "\n",
       "        if (window._pyforest_update_imports_cell) { window._pyforest_update_imports_cell('import seaborn as sns\\nfrom sklearn import metrics\\nimport numpy as np\\nimport xgboost as xgb\\nimport pandas as pd\\nimport sklearn'); }\n",
       "    "
      ],
      "text/plain": [
       "<IPython.core.display.Javascript object>"
      ]
     },
     "metadata": {},
     "output_type": "display_data"
    },
    {
     "data": {
      "text/plain": [
       "0.8610811458707899"
      ]
     },
     "execution_count": 42,
     "metadata": {},
     "output_type": "execute_result"
    }
   ],
   "source": [
    "metrics.roc_auc_score(y_test,y_pred)"
   ]
  },
  {
   "cell_type": "code",
   "execution_count": 43,
   "metadata": {},
   "outputs": [
    {
     "data": {
      "application/javascript": [
       "\n",
       "        if (window._pyforest_update_imports_cell) { window._pyforest_update_imports_cell('import seaborn as sns\\nfrom sklearn import metrics\\nimport numpy as np\\nimport xgboost as xgb\\nimport pandas as pd\\nimport sklearn'); }\n",
       "    "
      ],
      "text/plain": [
       "<IPython.core.display.Javascript object>"
      ]
     },
     "metadata": {},
     "output_type": "display_data"
    },
    {
     "data": {
      "application/javascript": [
       "\n",
       "        if (window._pyforest_update_imports_cell) { window._pyforest_update_imports_cell('import seaborn as sns\\nfrom sklearn import metrics\\nimport numpy as np\\nimport xgboost as xgb\\nimport pandas as pd\\nimport sklearn'); }\n",
       "    "
      ],
      "text/plain": [
       "<IPython.core.display.Javascript object>"
      ]
     },
     "metadata": {},
     "output_type": "display_data"
    },
    {
     "data": {
      "application/javascript": [
       "\n",
       "        if (window._pyforest_update_imports_cell) { window._pyforest_update_imports_cell('import seaborn as sns\\nfrom sklearn import metrics\\nimport numpy as np\\nimport xgboost as xgb\\nimport pandas as pd\\nimport sklearn\\nimport matplotlib.pyplot as plt'); }\n",
       "    "
      ],
      "text/plain": [
       "<IPython.core.display.Javascript object>"
      ]
     },
     "metadata": {},
     "output_type": "display_data"
    },
    {
     "data": {
      "application/javascript": [
       "\n",
       "        if (window._pyforest_update_imports_cell) { window._pyforest_update_imports_cell('import seaborn as sns\\nfrom sklearn import metrics\\nimport numpy as np\\nimport xgboost as xgb\\nimport pandas as pd\\nimport sklearn\\nimport matplotlib.pyplot as plt'); }\n",
       "    "
      ],
      "text/plain": [
       "<IPython.core.display.Javascript object>"
      ]
     },
     "metadata": {},
     "output_type": "display_data"
    },
    {
     "data": {
      "application/javascript": [
       "\n",
       "        if (window._pyforest_update_imports_cell) { window._pyforest_update_imports_cell('import seaborn as sns\\nfrom sklearn import metrics\\nimport numpy as np\\nimport xgboost as xgb\\nimport pandas as pd\\nimport sklearn\\nimport matplotlib.pyplot as plt'); }\n",
       "    "
      ],
      "text/plain": [
       "<IPython.core.display.Javascript object>"
      ]
     },
     "metadata": {},
     "output_type": "display_data"
    },
    {
     "data": {
      "application/javascript": [
       "\n",
       "        if (window._pyforest_update_imports_cell) { window._pyforest_update_imports_cell('import seaborn as sns\\nfrom sklearn import metrics\\nimport numpy as np\\nimport xgboost as xgb\\nimport pandas as pd\\nimport sklearn\\nimport matplotlib.pyplot as plt'); }\n",
       "    "
      ],
      "text/plain": [
       "<IPython.core.display.Javascript object>"
      ]
     },
     "metadata": {},
     "output_type": "display_data"
    },
    {
     "data": {
      "application/javascript": [
       "\n",
       "        if (window._pyforest_update_imports_cell) { window._pyforest_update_imports_cell('import seaborn as sns\\nfrom sklearn import metrics\\nimport numpy as np\\nimport xgboost as xgb\\nimport pandas as pd\\nimport sklearn\\nimport matplotlib.pyplot as plt'); }\n",
       "    "
      ],
      "text/plain": [
       "<IPython.core.display.Javascript object>"
      ]
     },
     "metadata": {},
     "output_type": "display_data"
    },
    {
     "data": {
      "application/javascript": [
       "\n",
       "        if (window._pyforest_update_imports_cell) { window._pyforest_update_imports_cell('import seaborn as sns\\nfrom sklearn import metrics\\nimport numpy as np\\nimport xgboost as xgb\\nimport pandas as pd\\nimport sklearn\\nimport matplotlib.pyplot as plt'); }\n",
       "    "
      ],
      "text/plain": [
       "<IPython.core.display.Javascript object>"
      ]
     },
     "metadata": {},
     "output_type": "display_data"
    },
    {
     "data": {
      "application/javascript": [
       "\n",
       "        if (window._pyforest_update_imports_cell) { window._pyforest_update_imports_cell('import seaborn as sns\\nfrom sklearn import metrics\\nimport numpy as np\\nimport xgboost as xgb\\nimport pandas as pd\\nimport sklearn\\nimport matplotlib.pyplot as plt'); }\n",
       "    "
      ],
      "text/plain": [
       "<IPython.core.display.Javascript object>"
      ]
     },
     "metadata": {},
     "output_type": "display_data"
    },
    {
     "data": {
      "application/javascript": [
       "\n",
       "        if (window._pyforest_update_imports_cell) { window._pyforest_update_imports_cell('import seaborn as sns\\nfrom sklearn import metrics\\nimport numpy as np\\nimport xgboost as xgb\\nimport pandas as pd\\nimport sklearn\\nimport matplotlib.pyplot as plt'); }\n",
       "    "
      ],
      "text/plain": [
       "<IPython.core.display.Javascript object>"
      ]
     },
     "metadata": {},
     "output_type": "display_data"
    },
    {
     "data": {
      "application/javascript": [
       "\n",
       "        if (window._pyforest_update_imports_cell) { window._pyforest_update_imports_cell('import seaborn as sns\\nfrom sklearn import metrics\\nimport numpy as np\\nimport xgboost as xgb\\nimport pandas as pd\\nimport sklearn\\nimport matplotlib.pyplot as plt'); }\n",
       "    "
      ],
      "text/plain": [
       "<IPython.core.display.Javascript object>"
      ]
     },
     "metadata": {},
     "output_type": "display_data"
    },
    {
     "data": {
      "application/javascript": [
       "\n",
       "        if (window._pyforest_update_imports_cell) { window._pyforest_update_imports_cell('import seaborn as sns\\nfrom sklearn import metrics\\nimport numpy as np\\nimport xgboost as xgb\\nimport pandas as pd\\nimport sklearn\\nimport matplotlib.pyplot as plt'); }\n",
       "    "
      ],
      "text/plain": [
       "<IPython.core.display.Javascript object>"
      ]
     },
     "metadata": {},
     "output_type": "display_data"
    },
    {
     "data": {
      "application/javascript": [
       "\n",
       "        if (window._pyforest_update_imports_cell) { window._pyforest_update_imports_cell('import seaborn as sns\\nfrom sklearn import metrics\\nimport numpy as np\\nimport xgboost as xgb\\nimport pandas as pd\\nimport sklearn\\nimport matplotlib.pyplot as plt'); }\n",
       "    "
      ],
      "text/plain": [
       "<IPython.core.display.Javascript object>"
      ]
     },
     "metadata": {},
     "output_type": "display_data"
    },
    {
     "data": {
      "image/png": "[encoded data removed]",
      "text/plain": [
       "<Figure size 960x800 with 1 Axes>"
      ]
     },
     "metadata": {
      "needs_background": "light"
     },
     "output_type": "display_data"
    }
   ],
   "source": [
    "auc = metrics.roc_auc_score(y_test, y_pred)\n",
    "\n",
    "fpr, tpr, thresolds = metrics.roc_curve(y_test, y_pred)\n",
    "\n",
    "plt.figure(figsize=(12, 10), dpi=80)\n",
    "plt.axis('scaled')\n",
    "plt.xlim([0, 1])\n",
    "plt.ylim([0, 1])\n",
    "plt.title(\"AUC & ROC Curve\")\n",
    "plt.plot(fpr, tpr, 'v')\n",
    "plt.fill_between(fpr, tpr, facecolor='blue', alpha=0.8)\n",
    "plt.text(1, 0.05, 'AUC = %0.4f' % auc, ha='right', fontsize=10, weight='bold', color='black')\n",
    "plt.xlabel(\"False Positive Rate\")\n",
    "plt.ylabel(\"True Positive Rate\")\n",
    "plt.show()"
   ]
  },
  {
   "cell_type": "code",
   "execution_count": 49,
   "metadata": {},
   "outputs": [
    {
     "data": {
      "text/plain": [
       "',Age,Sex,RestingBP,Cholesterol,FastingBS,MaxHR,ExerciseAngina,Oldpeak,ChestPainType_ASY,ChestPainType_ATA,ChestPainType_NAP,ChestPainType_TA,RestingECG_LVH,RestingECG_Normal,RestingECG_ST,ST_Slope_Down,ST_Slope_Flat,ST_Slope_Up\\r\\n349,0.16326530612244894,1.0,0.23076923076923062,0.37043856574574624,1.0,0.41666666666666674,1.0,0.4090909090909091,1.0,0.0,0.0,0.0,0.0,1.0,0.0,0.0,1.0,0.0\\r\\n653,0.2857142857142857,1.0,0.487179487179487,0.32128514056224894,0.0,0.6060606060606062,0.0,0.29545454545454547,0.0,0.0,1.0,0.0,0.0,1.0,0.0,0.0,0.0,1.0\\r\\n7,0.5306122448979591,1.0,0.23076923076923062,0.43373493975903615,0.0,0.5454545454545454,0.0,0.29545454545454547,0.0,1.0,0.0,0.0,0.0,1.0,0.0,0.0,0.0,1.0\\r\\n571,0.8367346938775508,1.0,0.6153846153846152,0.040160642570281124,1.0,0.2954545454545455,1.0,0.46590909090909094,1.0,0.0,0.0,0.0,0.0,1.0,0.0,0.0,1.0,0.0\\r\\n171,0.2448979591836734,1.0,0.6153846153846152,0.5421686746987953,0.0,0.893939393939394,0.0,0.29545454545454547,0.0,0.0,1.0,0.0,0.0,1.0,0.0,0.0,0.0,1.0\\r\\n177,0.6326530612244898,1.0,0.6153846153846152,0.751004016064257,0.0,0.6060606060606062,0.0,0.29545454545454547,0.0,1.0,0.0,0.0,0.0,1.0,0.0,0.0,0.0,1.0\\r\\n546,0.40816326530612246,1.0,0.5128205128205128,0.48192771084337344,1.0,0.696969696969697,0.0,0.29545454545454547,0.0,0.0,1.0,0.0,0.0,0.0,1.0,0.0,1.0,0.0\\r\\n134,0.6734693877551019,0.0,0.487179487179487,0.7791164658634537,0.0,0.3787878787878789,1.0,0.4090909090909091,1.0,0.0,0.0,0.0,0.0,0.0,1.0,0.0,1.0,0.0\\r\\n887,0.30612244897959184,1.0,0.5128205128205128,0.5903614457831325,1.0,0.553030303030303,1.0,0.3068181818181818,1.0,0.0,0.0,0.0,1.0,0.0,0.0,0.0,1.0,0.0\\r\\n580,0.46938775510204067,1.0,0.5,0.20883534136546184,1.0,0.4545454545454546,1.0,0.4090909090909091,1.0,0.0,0.0,0.0,1.0,0.0,0.0,0.0,1.0,0.0\\r\\n531,0.7346938775510203,1.0,0.6538461538461537,0.8273092369477912,1.0,0.34090909090909094,1.0,0.5,1.0,0.0,0.0,0.0,0.0,0.0,1.0,0.0,1.0,0.0\\r\\n726,0.26530612244897955,1.0,0.23076923076923062,0.5421686746987953,0.0,0.6287878787878789,0.0,0.29545454545454547,0.0,1.0,0.0,0.0,0.0,1.0,0.0,0.0,0.0,1.0\\r\\n195,0.693877551020408,0.0,0.8717948717948716,0.3734939759036145,0.0,0.3484848484848485,0.0,0.29545454545454547,0.0,0.0,0.0,1.0,0.0,1.0,0.0,0.0,0.0,1.0\\r\\n384,0.5306122448979591,1.0,0.3589743589743588,0.37043856574574624,0.0,0.643939393939394,0.0,0.29545454545454547,1.0,0.0,0.0,0.0,0.0,1.0,0.0,0.0,1.0,0.0\\r\\n805,0.5306122448979591,1.0,0.6153846153846152,0.5582329317269077,0.0,0.6818181818181819,0.0,0.4318181818181818,1.0,0.0,0.0,0.0,0.0,1.0,0.0,0.0,0.0,1.0\\r\\n306,0.5510204081632653,1.0,0.2948717948717947,0.37043856574574624,1.0,0.643939393939394,0.0,0.3068181818181818,1.0,0.0,0.0,0.0,0.0,1.0,0.0,0.0,1.0,0.0\\r\\n910,0.26530612244897955,1.0,0.3589743589743588,0.22891566265060243,0.0,0.8484848484848486,0.0,0.29545454545454547,0.0,1.0,0.0,0.0,0.0,1.0,0.0,0.0,0.0,1.0\\r\\n739,0.5306122448979591,1.0,0.4230769230769229,0.6947791164658634,0.0,0.6212121212121213,0.0,0.3522727272727273,0.0,0.0,1.0,0.0,1.0,0.0,0.0,1.0,0.0,0.0\\r\\n267,0.12244897959183676,1.0,0.07692307692307687,0.48192771084337344,0.0,0.6060606060606062,0.0,0.29545454545454547,0.0,1.0,0.0,0.0,0.0,1.0,0.0,0.0,0.0,1.0\\r\\n335,0.693877551020408,1.0,0.3589743589743588,0.37043856574574624,1.0,0.48484848484848486,0.0,0.20454545454545456,0.0,0.0,0.0,1.0,1.0,0.0,0.0,0.0,1.0,0.0\\r\\n85,0.7755102040816326,1.0,0.6153846153846152,0.1566265060240964,0.0,0.18181818181818188,1.0,0.4090909090909091,1.0,0.0,0.0,0.0,0.0,1.0,0.0,0.0,1.0,0.0\\r\\n172,0.510204081632653,1.0,0.6153846153846152,0.8835341365461848,0.0,0.696969696969697,0.0,0.29545454545454547,0.0,1.0,0.0,0.0,0.0,1.0,0.0,0.0,0.0,1.0\\r\\n676,0.46938775510204067,0.0,0.487179487179487,0.8232931726907631,0.0,0.5454545454545454,1.0,0.4318181818181818,1.0,0.0,0.0,0.0,0.0,1.0,0.0,0.0,1.0,0.0\\r\\n145,0.22448979591836726,1.0,0.23076923076923062,0.6947791164658634,0.0,0.4696969696969697,0.0,0.29545454545454547,1.0,0.0,0.0,0.0,0.0,1.0,0.0,0.0,0.0,1.0\\r\\n369,0.7142857142857142,1.0,0.7435897435897434,0.37043856574574624,0.0,0.12121212121212122,1.0,0.5227272727272727,1.0,0.0,0.0,0.0,0.0,1.0,0.0,0.0,1.0,0.0\\r\\n669,0.346938775510204,0.0,0.487179487179487,0.5381526104417671,0.0,0.7954545454545454,0.0,0.36363636363636365,0.0,1.0,0.0,0.0,1.0,0.0,0.0,0.0,1.0,0.0\\r\\n675,0.5918367346938775,1.0,0.7435897435897434,0.10441767068273095,1.0,0.7803030303030303,0.0,0.3181818181818182,0.0,0.0,1.0,0.0,0.0,1.0,0.0,0.0,0.0,1.0\\r\\n885,0.510204081632653,0.0,0.46153846153846145,0.465863453815261,0.0,0.34090909090909094,0.0,0.29545454545454547,0.0,0.0,1.0,0.0,1.0,0.0,0.0,0.0,0.0,1.0\\r\\n532,0.5510204081632653,1.0,0.3076923076923077,0.3453815261044177,1.0,0.24242424242424243,0.0,0.29545454545454547,1.0,0.0,0.0,0.0,0.0,0.0,1.0,0.0,1.0,0.0\\r\\n164,0.4897959183673468,0.0,0.6153846153846152,0.5020080321285141,0.0,0.5303030303030303,0.0,0.29545454545454547,0.0,1.0,0.0,0.0,0.0,1.0,0.0,0.0,0.0,1.0\\r\\n138,0.5306122448979591,1.0,0.6153846153846152,0.26506024096385544,0.0,0.36363636363636365,1.0,0.29545454545454547,1.0,0.0,0.0,0.0,0.0,1.0,0.0,0.0,1.0,0.0\\r\\n565,0.6734693877551019,1.0,0.6282051282051282,0.7710843373493976,0.0,0.34090909090909094,1.0,0.48863636363636365,1.0,0.0,0.0,0.0,0.0,0.0,1.0,0.0,1.0,0.0\\r\\n838,0.7142857142857142,1.0,0.487179487179487,0.9236947791164658,1.0,0.4696969696969697,1.0,0.5,1.0,0.0,0.0,0.0,1.0,0.0,0.0,0.0,0.0,1.0\\r\\n753,0.12244897959183676,0.0,0.33333333333333326,0.44176706827309237,0.0,0.9242424242424243,0.0,0.375,0.0,1.0,0.0,0.0,0.0,1.0,0.0,0.0,0.0,1.0\\r\\n204,0.5714285714285714,1.0,0.487179487179487,0.3373493975903615,0.0,0.2272727272727273,0.0,0.29545454545454547,0.0,1.0,0.0,0.0,0.0,1.0,0.0,0.0,0.0,1.0\\r\\n397,0.6122448979591837,1.0,0.9999999999999998,0.37043856574574624,1.0,0.26515151515151525,1.0,0.29545454545454547,1.0,0.0,0.0,0.0,0.0,0.0,1.0,0.0,1.0,0.0\\r\\n270,0.346938775510204,1.0,0.3589743589743588,0.5020080321285141,0.0,0.5303030303030303,0.0,0.29545454545454547,1.0,0.0,0.0,0.0,0.0,1.0,0.0,0.0,0.0,1.0\\r\\n329,0.6530612244897958,1.0,0.487179487179487,0.37043856574574624,1.0,0.4545454545454546,1.0,0.42045454545454547,1.0,0.0,0.0,0.0,0.0,0.0,1.0,1.0,0.0,0.0\\r\\n699,0.5918367346938775,1.0,0.23076923076923062,0.40562248995983935,0.0,0.4242424242424243,1.0,0.46590909090909094,1.0,0.0,0.0,0.0,0.0,1.0,0.0,0.0,1.0,0.0\\r\\n719,0.7142857142857142,1.0,0.487179487179487,0.6184738955823292,0.0,0.5833333333333335,0.0,0.4545454545454546,1.0,0.0,0.0,0.0,1.0,0.0,0.0,0.0,1.0,0.0\\r\\n859,0.46938775510204067,0.0,0.6153846153846152,0.8353413654618473,0.0,0.5454545454545454,0.0,0.46590909090909094,0.0,0.0,1.0,0.0,1.0,0.0,0.0,0.0,0.0,1.0\\r\\n853,0.3877551020408163,1.0,0.5897435897435896,0.6305220883534137,0.0,0.6515151515151516,0.0,0.29545454545454547,0.0,0.0,1.0,0.0,1.0,0.0,0.0,0.0,0.0,1.0\\r\\n399,0.6734693877551019,1.0,0.5179040277079492,0.37043856574574624,1.0,0.0,0.0,0.29545454545454547,0.0,0.0,1.0,0.0,0.0,0.0,1.0,0.0,1.0,0.0\\r\\n185,0.6122448979591837,1.0,0.8717948717948716,0.4457831325301204,1.0,0.16666666666666674,0.0,0.29545454545454547,0.0,0.0,1.0,0.0,0.0,0.0,1.0,0.0,1.0,0.0\\r\\n584,0.7346938775510203,1.0,0.6282051282051282,0.5783132530120481,1.0,0.3484848484848485,1.0,0.46590909090909094,1.0,0.0,0.0,0.0,0.0,0.0,1.0,0.0,1.0,0.0\\r\\n469,0.5714285714285714,1.0,0.41025641025641013,0.49799196787148586,1.0,0.6893939393939394,0.0,0.5227272727272727,0.0,1.0,0.0,0.0,0.0,1.0,0.0,0.0,1.0,0.0\\r\\n167,0.40816326530612246,1.0,0.6153846153846152,0.5542168674698795,0.0,0.36363636363636365,0.0,0.29545454545454547,0.0,1.0,0.0,0.0,0.0,1.0,0.0,0.0,0.0,1.0\\r\\n5,0.22448979591836726,1.0,0.3589743589743588,0.9598393574297188,0.0,0.7575757575757576,0.0,0.29545454545454547,0.0,0.0,1.0,0.0,0.0,1.0,0.0,0.0,0.0,1.0\\r\\n200,0.3877551020408163,1.0,0.23076923076923062,0.5983935742971886,0.0,0.6060606060606062,0.0,0.29545454545454547,0.0,0.0,0.0,1.0,0.0,1.0,0.0,0.0,0.0,1.0\\r\\n239,0.40816326530612246,1.0,0.8717948717948716,0.3734939759036145,0.0,0.24242424242424243,1.0,0.6363636363636364,1.0,0.0,0.0,0.0,0.0,1.0,0.0,0.0,1.0,0.0\\r\\n246,0.5306122448979591,1.0,0.3589743589743588,0.5502008032128514,0.0,0.6060606060606062,1.0,0.46590909090909094,0.0,0.0,1.0,0.0,0.0,1.0,0.0,0.0,1.0,0.0\\r\\n291,0.3877551020408163,0.0,0.6153846153846152,0.6305220883534137,0.0,0.49242424242424243,0.0,0.4090909090909091,0.0,1.0,0.0,0.0,0.0,1.0,0.0,0.0,0.0,1.0\\r\\n41,0.5306122448979591,0.0,0.487179487179487,0.7791164658634537,0.0,0.2272727272727273,1.0,0.29545454545454547,0.0,0.0,1.0,0.0,0.0,0.0,1.0,0.0,1.0,0.0\\r\\n662,0.3265306122448979,1.0,0.23076923076923062,0.3895582329317269,0.0,0.8106060606060608,0.0,0.29545454545454547,1.0,0.0,0.0,0.0,1.0,0.0,0.0,0.0,0.0,1.0\\r\\n300,0.6530612244897958,1.0,0.8717948717948716,0.37043856574574624,1.0,0.5984848484848486,0.0,0.34090909090909094,1.0,0.0,0.0,0.0,0.0,1.0,0.0,0.0,1.0,0.0\\r\\n317,0.5714285714285714,1.0,0.6153846153846152,0.37043856574574624,1.0,0.38636363636363646,1.0,0.5,1.0,0.0,0.0,0.0,0.0,1.0,0.0,0.0,0.0,1.0\\r\\n344,0.46938775510204067,1.0,0.3589743589743588,0.37043856574574624,1.0,0.25757575757575757,0.0,0.29545454545454547,1.0,0.0,0.0,0.0,0.0,1.0,0.0,0.0,1.0,0.0\\r\\n188,0.44897959183673475,0.0,0.3589743589743588,0.9156626506024097,0.0,0.3030303030303031,1.0,0.4090909090909091,1.0,0.0,0.0,0.0,0.0,1.0,0.0,0.0,1.0,0.0\\r\\n196,0.4285714285714285,1.0,0.3589743589743588,0.7911646586345382,0.0,0.4696969696969697,0.0,0.4090909090909091,1.0,0.0,0.0,0.0,0.0,1.0,0.0,0.0,1.0,0.0\\r\\n845,0.6734693877551019,0.0,0.6794871794871793,0.8313253012048192,0.0,0.5757575757575759,1.0,0.4090909090909091,1.0,0.0,0.0,0.0,1.0,0.0,0.0,0.0,1.0,0.0\\r\\n303,0.693877551020408,0.0,0.3589743589743588,0.37043856574574624,1.0,0.4015151515151516,1.0,0.48863636363636365,1.0,0.0,0.0,0.0,0.0,0.0,1.0,1.0,0.0,0.0\\r\\n210,0.40816326530612246,1.0,0.17948717948717952,0.6546184738955823,1.0,0.3030303030303031,0.0,0.29545454545454547,1.0,0.0,0.0,0.0,0.0,1.0,0.0,0.0,1.0,0.0\\r\\n578,0.5918367346938775,1.0,0.8205128205128205,0.29317269076305225,0.0,0.3712121212121212,1.0,0.6363636363636364,1.0,0.0,0.0,0.0,1.0,0.0,0.0,1.0,0.0,0.0\\r\\n741,0.693877551020408,1.0,0.3589743589743588,0.6706827309236949,0.0,0.21969696969696972,1.0,0.5,1.0,0.0,0.0,0.0,0.0,1.0,0.0,0.0,1.0,0.0\\r\\n558,0.6122448979591837,1.0,0.5769230769230769,0.5301204819277108,0.0,0.40909090909090917,1.0,0.4545454545454546,0.0,0.0,1.0,0.0,0.0,0.0,1.0,0.0,1.0,0.0\\r\\n511,0.7142857142857142,1.0,0.8717948717948716,0.6706827309236949,1.0,0.13636363636363646,1.0,0.5227272727272727,1.0,0.0,0.0,0.0,0.0,0.0,1.0,0.0,1.0,0.0\\r\\n684,0.3877551020408163,1.0,0.20512820512820507,0.5742971887550201,0.0,0.6212121212121213,0.0,0.29545454545454547,0.0,0.0,1.0,0.0,0.0,1.0,0.0,0.0,0.0,1.0\\r\\n912,0.5918367346938775,0.0,0.6153846153846152,0.5662650602409638,0.0,0.4015151515151516,1.0,0.3181818181818182,1.0,0.0,0.0,0.0,0.0,1.0,0.0,0.0,1.0,0.0\\r\\n279,0.5306122448979591,0.0,0.487179487179487,0.6144578313253013,0.0,0.643939393939394,0.0,0.29545454545454547,0.0,1.0,0.0,0.0,0.0,0.0,1.0,0.0,0.0,1.0\\r\\n48,0.16326530612244894,1.0,0.2564102564102564,0.963855421686747,0.0,0.8636363636363638,0.0,0.4090909090909091,0.0,0.0,1.0,0.0,0.0,1.0,0.0,0.0,1.0,0.0\\r\\n556,0.9591836734693877,1.0,0.8717948717948716,0.8433734939759037,1.0,0.31818181818181823,1.0,0.5227272727272727,1.0,0.0,0.0,0.0,0.0,1.0,0.0,1.0,0.0,0.0\\r\\n716,0.7959183673469388,1.0,0.3589743589743588,0.5502008032128514,0.0,0.007575757575757569,0.0,0.4090909090909091,1.0,0.0,0.0,0.0,0.0,1.0,0.0,0.0,1.0,0.0\\r\\n712,0.6122448979591837,1.0,0.10256410256410242,0.5381526104417671,0.0,0.6515151515151516,0.0,0.3068181818181818,1.0,0.0,0.0,0.0,0.0,1.0,0.0,0.0,0.0,1.0\\r\\n374,0.6734693877551019,1.0,0.4230769230769229,0.37043856574574624,0.0,0.26515151515151525,1.0,0.29545454545454547,1.0,0.0,0.0,0.0,0.0,1.0,0.0,1.0,0.0,0.0\\r\\n586,0.510204081632653,1.0,0.41025641025641013,0.5742971887550201,0.0,0.39393939393939403,1.0,0.5227272727272727,1.0,0.0,0.0,0.0,0.0,1.0,0.0,0.0,1.0,0.0\\r\\n221,0.46938775510204067,0.0,0.8717948717948716,0.8152610441767068,0.0,0.6060606060606062,1.0,0.4090909090909091,1.0,0.0,0.0,0.0,0.0,1.0,0.0,0.0,1.0,0.0\\r\\n35,0.08163265306122447,1.0,0.4230769230769229,0.6184738955823292,0.0,0.643939393939394,0.0,0.29545454545454547,0.0,1.0,0.0,0.0,0.0,1.0,0.0,0.0,0.0,1.0\\r\\n348,0.8367346938775508,1.0,0.5769230769230769,0.37043856574574624,0.0,0.25757575757575757,1.0,0.4772727272727273,1.0,0.0,0.0,0.0,0.0,0.0,1.0,0.0,1.0,0.0\\r\\n694,0.5714285714285714,1.0,0.3589743589743588,0.5461847389558232,0.0,0.8181818181818183,0.0,0.38636363636363635,0.0,1.0,0.0,0.0,0.0,1.0,0.0,0.0,0.0,1.0\\r\\n819,0.5510204081632653,1.0,0.8717948717948716,0.7590361445783134,0.0,0.5681818181818183,1.0,0.38636363636363635,1.0,0.0,0.0,0.0,1.0,0.0,0.0,0.0,1.0,0.0\\r\\n229,0.18367346938775508,0.0,0.487179487179487,0.29317269076305225,0.0,0.8636363636363638,0.0,0.29545454545454547,1.0,0.0,0.0,0.0,0.0,0.0,1.0,0.0,0.0,1.0\\r\\n406,0.5918367346938775,1.0,0.6153846153846152,0.37043856574574624,1.0,0.2272727272727273,1.0,0.29545454545454547,1.0,0.0,0.0,0.0,0.0,1.0,0.0,0.0,1.0,0.0\\r\\n4,0.5306122448979591,1.0,0.7435897435897434,0.3815261044176707,0.0,0.39393939393939403,0.0,0.29545454545454547,0.0,0.0,1.0,0.0,0.0,1.0,0.0,0.0,0.0,1.0\\r\\n310,0.7551020408163265,1.0,0.8076923076923075,0.37043856574574624,0.0,0.6363636363636365,0.0,0.4090909090909091,1.0,0.0,0.0,0.0,0.0,1.0,0.0,0.0,0.0,1.0\\r\\n734,0.5714285714285714,1.0,0.487179487179487,0.7349397590361446,1.0,0.25,1.0,0.4772727272727273,1.0,0.0,0.0,0.0,1.0,0.0,0.0,1.0,0.0,0.0\\r\\n871,0.6734693877551019,1.0,0.7435897435897434,0.5742971887550201,1.0,0.5075757575757576,1.0,0.4090909090909091,0.0,0.0,1.0,0.0,0.0,1.0,0.0,0.0,1.0,0.0\\r\\n783,0.346938775510204,0.0,0.5897435897435896,0.5461847389558232,0.0,0.6212121212121213,1.0,0.3181818181818182,1.0,0.0,0.0,0.0,1.0,0.0,0.0,0.0,1.0,0.0\\r\\n307,0.510204081632653,1.0,0.487179487179487,0.37043856574574624,0.0,0.3787878787878789,0.0,0.375,0.0,1.0,0.0,0.0,0.0,0.0,1.0,1.0,0.0,0.0\\r\\n498,0.7959183673469388,1.0,0.8717948717948716,0.3967853986753112,1.0,0.4545454545454546,1.0,0.29545454545454547,1.0,0.0,0.0,0.0,0.0,0.0,1.0,0.0,1.0,0.0\\r\\n50,0.44897959183673475,1.0,0.487179487179487,0.5341365461847389,0.0,0.38636363636363646,1.0,0.5227272727272727,1.0,0.0,0.0,0.0,0.0,1.0,0.0,0.0,1.0,0.0\\r\\n184,0.5306122448979591,0.0,0.8717948717948716,0.8514056224899598,0.0,0.4545454545454546,0.0,0.29545454545454547,0.0,1.0,0.0,0.0,0.0,1.0,0.0,0.0,0.0,1.0\\r\\n814,1.0,1.0,0.4230769230769229,0.8192771084337349,0.0,0.696969696969697,1.0,0.29545454545454547,1.0,0.0,0.0,0.0,1.0,0.0,0.0,0.0,0.0,1.0\\r\\n602,0.6734693877551019,1.0,0.3589743589743588,0.9518072289156627,0.0,0.21212121212121215,1.0,0.29545454545454547,0.0,0.0,1.0,0.0,0.0,1.0,0.0,0.0,1.0,0.0\\r\\n560,0.5306122448979591,1.0,0.5256410256410255,0.41365461847389556,0.0,0.5075757575757576,0.0,0.3181818181818182,0.0,0.0,1.0,0.0,0.0,0.0,1.0,0.0,0.0,1.0\\r\\n370,0.6530612244897958,1.0,0.5512820512820511,0.37043856574574624,0.0,0.5061315772100086,1.0,0.3522727272727273,1.0,0.0,0.0,0.0,0.0,1.0,0.0,0.0,0.0,1.0\\r\\n261,0.5306122448979591,0.0,0.3589743589743588,0.4859437751004016,0.0,0.5151515151515151,0.0,0.4090909090909091,0.0,1.0,0.0,0.0,0.0,1.0,0.0,0.0,0.0,1.0\\r\\n162,0.3877551020408163,1.0,0.8717948717948716,0.6546184738955823,0.0,0.7878787878787878,0.0,0.29545454545454547,0.0,1.0,0.0,0.0,0.0,1.0,0.0,0.0,0.0,1.0\\r\\n521,0.6734693877551019,1.0,0.3589743589743588,0.7309236947791165,0.0,0.49242424242424243,1.0,0.75,1.0,0.0,0.0,0.0,0.0,0.0,1.0,1.0,0.0,0.0\\r\\n203,0.061224489795918324,0.0,0.10256410256410242,0.4779116465863454,0.0,0.6060606060606062,0.0,0.29545454545454547,0.0,1.0,0.0,0.0,0.0,0.0,1.0,0.0,0.0,1.0\\r\\n57,0.6122448979591837,1.0,0.487179487179487,0.45381526104417663,0.0,0.5303030303030303,0.0,0.29545454545454547,0.0,0.0,1.0,0.0,0.0,0.0,1.0,0.0,1.0,0.0\\r\\n252,0.6734693877551019,1.0,0.4230769230769229,0.7710843373493976,0.0,0.34090909090909094,1.0,0.29545454545454547,1.0,0.0,0.0,0.0,0.0,0.0,1.0,0.0,0.0,1.0\\r\\n478,0.5918367346938775,1.0,0.487179487179487,0.8473895582329318,1.0,0.590909090909091,1.0,0.5227272727272727,1.0,0.0,0.0,0.0,0.0,0.0,1.0,0.0,1.0,0.0\\r\\n659,0.6326530612244898,1.0,0.4358974358974359,0.4738955823293172,1.0,0.48484848484848486,0.0,0.5454545454545454,0.0,0.0,1.0,0.0,0.0,1.0,0.0,0.0,1.0,0.0\\r\\n482,0.7959183673469388,1.0,0.641025641025641,0.6827309236947792,1.0,0.41666666666666674,0.0,0.5795454545454546,0.0,0.0,0.0,1.0,0.0,1.0,0.0,0.0,0.0,1.0\\r\\n614,0.693877551020408,1.0,0.3589743589743588,0.6184738955823292,0.0,0.1742424242424243,1.0,0.29545454545454547,0.0,1.0,0.0,0.0,1.0,0.0,0.0,0.0,1.0,0.0\\r\\n643,0.6122448979591837,1.0,0.2564102564102564,0.5220883534136547,0.0,0.7196969696969697,0.0,0.5795454545454546,0.0,0.0,1.0,0.0,1.0,0.0,0.0,0.0,1.0,0.0\\r\\n644,0.8775510204081631,0.0,0.23076923076923062,0.6626506024096386,1.0,0.4545454545454546,0.0,0.29545454545454547,0.0,0.0,1.0,0.0,1.0,0.0,0.0,0.0,0.0,1.0\\r\\n55,0.46938775510204067,0.0,0.8717948717948716,0.37751004016064255,0.0,0.7575757575757576,0.0,0.29545454545454547,0.0,1.0,0.0,0.0,0.0,1.0,0.0,0.0,0.0,1.0\\r\\n249,0.4285714285714285,1.0,0.487179487179487,0.9678714859437751,0.0,0.3787878787878789,1.0,0.4090909090909091,1.0,0.0,0.0,0.0,0.0,1.0,0.0,0.0,1.0,0.0\\r\\n316,0.5918367346938775,1.0,0.16666666666666652,0.37043856574574624,1.0,0.590909090909091,0.0,0.3295454545454546,0.0,0.0,1.0,0.0,0.0,1.0,0.0,0.0,1.0,0.0\\r\\n619,0.9387755102040816,0.0,0.3589743589743588,0.678714859437751,0.0,0.38636363636363646,1.0,0.3181818181818182,0.0,1.0,0.0,0.0,1.0,0.0,0.0,0.0,0.0,1.0\\r\\n632,0.510204081632653,1.0,0.6153846153846152,0.41365461847389556,1.0,0.643939393939394,1.0,0.6477272727272727,1.0,0.0,0.0,0.0,1.0,0.0,0.0,1.0,0.0,0.0\\r\\n103,0.2448979591836734,1.0,0.3589743589743588,0.3967853986753112,1.0,0.6212121212121213,1.0,0.4090909090909091,1.0,0.0,0.0,0.0,0.0,1.0,0.0,0.0,1.0,0.0\\r\\n388,0.5510204081632653,1.0,0.6153846153846152,0.37043856574574624,0.0,0.09848484848484851,0.0,0.29545454545454547,1.0,0.0,0.0,0.0,0.0,1.0,0.0,0.0,1.0,0.0\\r\\n272,0.5510204081632653,1.0,0.6153846153846152,0.40562248995983935,0.0,0.4545454545454546,1.0,0.6363636363636364,1.0,0.0,0.0,0.0,0.0,1.0,0.0,0.0,1.0,0.0\\r\\n725,0.5510204081632653,0.0,0.5179040277079492,0.9116465863453815,0.0,0.3560606060606061,1.0,0.6818181818181819,1.0,0.0,0.0,0.0,0.0,0.0,1.0,0.0,1.0,0.0\\r\\n585,0.5918367346938775,1.0,0.5179040277079492,0.7429718875502007,1.0,0.3787878787878789,0.0,0.38636363636363635,0.0,1.0,0.0,0.0,0.0,0.0,1.0,0.0,1.0,0.0\\r\\n52,0.346938775510204,1.0,0.6153846153846152,0.49799196787148586,1.0,0.39393939393939403,0.0,0.29545454545454547,0.0,1.0,0.0,0.0,0.0,1.0,0.0,0.0,0.0,1.0\\r\\n131,0.36734693877551017,1.0,0.23076923076923062,0.4096385542168674,0.0,0.6060606060606062,1.0,0.29545454545454547,1.0,0.0,0.0,0.0,0.0,1.0,0.0,0.0,1.0,0.0\\r\\n759,0.5306122448979591,1.0,0.5179040277079492,0.7349397590361446,0.0,0.946969696969697,0.0,0.29545454545454547,0.0,1.0,0.0,0.0,1.0,0.0,0.0,0.0,0.0,1.0\\r\\n610,0.5306122448979591,0.0,0.4487179487179487,0.9357429718875503,1.0,0.6363636363636365,0.0,0.29545454545454547,1.0,0.0,0.0,0.0,0.0,0.0,1.0,0.0,1.0,0.0\\r\\n54,0.4897959183673468,0.0,0.487179487179487,0.32128514056224894,0.0,0.5303030303030303,1.0,0.46590909090909094,1.0,0.0,0.0,0.0,0.0,1.0,0.0,0.0,1.0,0.0\\r\\n117,0.6326530612244898,0.0,0.487179487179487,0.9558232931726907,1.0,0.4545454545454546,1.0,0.46590909090909094,1.0,0.0,0.0,0.0,0.0,0.0,1.0,0.0,1.0,0.0\\r\\n738,0.7551020408163265,0.0,0.8717948717948716,0.3967853986753112,0.0,0.6136363636363638,0.0,0.38636363636363635,0.0,0.0,1.0,0.0,1.0,0.0,0.0,0.0,0.0,1.0\\r\\n170,0.020408163265306145,1.0,0.3589743589743588,0.5742971887550201,0.0,0.6818181818181819,0.0,0.29545454545454547,0.0,1.0,0.0,0.0,0.0,1.0,0.0,0.0,0.0,1.0\\r\\n389,0.6734693877551019,1.0,0.8717948717948716,0.37043856574574624,1.0,0.5681818181818183,0.0,0.4090909090909091,1.0,0.0,0.0,0.0,0.0,0.0,1.0,0.0,1.0,0.0\\r\\n785,0.8367346938775508,1.0,0.8717948717948716,0.5381526104417671,1.0,0.46212121212121215,0.0,0.3068181818181818,0.0,0.0,0.0,1.0,1.0,0.0,0.0,0.0,1.0,0.0\\r\\n520,0.7346938775510203,1.0,0.487179487179487,0.4939759036144578,0.0,0.43939393939393945,0.0,0.3522727272727273,1.0,0.0,0.0,0.0,0.0,0.0,1.0,0.0,1.0,0.0\\r\\n266,0.4897959183673468,1.0,0.487179487179487,0.7951807228915662,0.0,0.3030303030303031,1.0,0.4090909090909091,1.0,0.0,0.0,0.0,0.0,1.0,0.0,0.0,1.0,0.0\\r\\n31,0.5714285714285714,1.0,0.487179487179487,0.2690763052208835,0.0,0.33333333333333337,0.0,0.29545454545454547,0.0,0.0,1.0,0.0,0.0,1.0,0.0,0.0,0.0,1.0\\r\\n415,0.7755102040816326,0.0,0.8076923076923075,0.37043856574574624,1.0,0.1515151515151516,0.0,0.29545454545454547,1.0,0.0,0.0,0.0,0.0,1.0,0.0,0.0,1.0,0.0\\r\\n821,0.6530612244897958,0.0,0.1282051282051282,0.8755020080321285,0.0,0.6818181818181819,0.0,0.29545454545454547,0.0,0.0,1.0,0.0,0.0,1.0,0.0,0.0,0.0,1.0\\r\\n36,0.7551020408163265,1.0,0.6153846153846152,0.8273092369477912,1.0,0.12878787878787878,1.0,0.46590909090909094,1.0,0.0,0.0,0.0,0.0,1.0,0.0,0.0,1.0,0.0\\r\\n832,0.46938775510204067,1.0,0.02564102564102555,0.5100401606425702,0.0,0.6363636363636365,1.0,0.29545454545454547,0.0,0.0,1.0,0.0,0.0,1.0,0.0,0.0,0.0,1.0\\r\\n633,0.7346938775510203,1.0,0.23076923076923062,0.4457831325301204,0.0,0.5606060606060606,1.0,0.5,0.0,0.0,0.0,1.0,1.0,0.0,0.0,0.0,1.0,0.0\\r\\n704,0.44897959183673475,1.0,0.7435897435897434,0.5742971887550201,0.0,0.43939393939393945,0.0,0.5909090909090909,1.0,0.0,0.0,0.0,1.0,0.0,0.0,0.0,1.0,0.0\\r\\n260,0.36734693877551017,1.0,0.6153846153846152,0.7028112449799198,0.0,0.7196969696969697,1.0,0.29545454545454547,0.0,1.0,0.0,0.0,0.0,1.0,0.0,0.0,0.0,1.0\\r\\n318,0.6734693877551019,1.0,0.487179487179487,0.37043856574574624,1.0,0.053030303030303094,0.0,0.5795454545454546,1.0,0.0,0.0,0.0,0.0,1.0,0.0,0.0,1.0,0.0\\r\\n100,0.7551020408163265,1.0,0.487179487179487,0.7028112449799198,0.0,0.34090909090909094,1.0,0.4090909090909091,1.0,0.0,0.0,0.0,0.0,0.0,1.0,0.0,1.0,0.0\\r\\n147,0.30612244897959184,0.0,0.3589743589743588,0.5983935742971886,0.0,0.8030303030303032,0.0,0.29545454545454547,0.0,1.0,0.0,0.0,0.0,0.0,1.0,0.0,0.0,1.0\\r\\n626,0.510204081632653,1.0,0.641025641025641,0.5060240963855422,0.0,0.31060606060606066,1.0,0.29545454545454547,1.0,0.0,0.0,0.0,1.0,0.0,0.0,0.0,0.0,1.0\\r\\n161,0.4285714285714285,1.0,0.46153846153846145,0.4497991967871486,0.0,0.19696969696969702,1.0,0.29545454545454547,1.0,0.0,0.0,0.0,0.0,1.0,0.0,0.0,1.0,0.0\\r\\n227,0.20408163265306123,1.0,0.0,0.06827309236947793,0.0,0.48484848484848486,1.0,0.5795454545454546,1.0,0.0,0.0,0.0,0.0,1.0,0.0,0.0,1.0,0.0\\r\\n618,0.7346938775510203,1.0,0.46153846153846145,0.6546184738955823,0.0,0.26515151515151525,1.0,0.3181818181818182,1.0,0.0,0.0,0.0,0.0,1.0,0.0,0.0,1.0,0.0\\r\\n594,0.6122448979591837,1.0,0.8717948717948716,0.6265060240963856,1.0,0.3257575757575758,1.0,0.4090909090909091,1.0,0.0,0.0,0.0,1.0,0.0,0.0,0.0,0.0,1.0\\r\\n336,0.8979591836734693,1.0,0.8717948717948716,0.37043856574574624,0.0,0.33333333333333337,0.0,0.4772727272727273,0.0,0.0,1.0,0.0,1.0,0.0,0.0,0.0,1.0,0.0\\r\\n78,0.4897959183673468,1.0,0.6153846153846152,0.0,0.0,0.5151515151515151,1.0,0.29545454545454547,0.0,1.0,0.0,0.0,0.0,1.0,0.0,0.0,0.0,1.0\\r\\n781,0.44897959183673475,0.0,0.23076923076923062,0.6184738955823292,0.0,0.6742424242424243,0.0,0.29545454545454547,1.0,0.0,0.0,0.0,1.0,0.0,0.0,0.0,0.0,1.0\\r\\n701,0.693877551020408,1.0,0.46153846153846145,0.43373493975903615,1.0,0.5303030303030303,0.0,0.29545454545454547,0.0,1.0,0.0,0.0,1.0,0.0,0.0,0.0,0.0,1.0\\r\\n79,0.4285714285714285,1.0,0.487179487179487,0.42570281124497994,0.0,0.7575757575757576,0.0,0.29545454545454547,1.0,0.0,0.0,0.0,0.0,1.0,0.0,0.0,1.0,0.0\\r\\n722,0.6530612244897958,0.0,0.7435897435897434,0.6345381526104419,0.0,0.6590909090909092,0.0,0.5909090909090909,1.0,0.0,0.0,0.0,1.0,0.0,0.0,0.0,1.0,0.0\\r\\n543,0.857142857142857,1.0,0.9999999999999998,0.36947791164658633,0.0,0.446969696969697,1.0,0.6363636363636364,1.0,0.0,0.0,0.0,0.0,0.0,1.0,1.0,0.0,0.0\\r\\n285,0.46938775510204067,0.0,0.23076923076923062,0.3614457831325301,0.0,0.3787878787878789,0.0,0.29545454545454547,0.0,0.0,1.0,0.0,0.0,1.0,0.0,0.0,0.0,1.0\\r\\n728,0.5306122448979591,0.0,0.5512820512820511,0.8192771084337349,1.0,0.7575757575757576,0.0,0.29545454545454547,0.0,0.0,1.0,0.0,0.0,1.0,0.0,0.0,0.0,1.0\\r\\n577,0.7959183673469388,1.0,0.6923076923076923,0.3967853986753112,0.0,0.3030303030303031,1.0,0.5113636363636364,1.0,0.0,0.0,0.0,0.0,1.0,0.0,0.0,1.0,0.0\\r\\n696,0.1428571428571428,1.0,0.3589743589743588,0.393574297188755,0.0,0.4545454545454546,1.0,0.4772727272727273,1.0,0.0,0.0,0.0,0.0,1.0,0.0,0.0,1.0,0.0\\r\\n209,0.5306122448979591,1.0,0.4230769230769229,0.465863453815261,0.0,0.5303030303030303,0.0,0.29545454545454547,1.0,0.0,0.0,0.0,0.0,1.0,0.0,0.0,1.0,0.0\\r\\n91,0.22448979591836726,1.0,0.487179487179487,0.8313253012048192,0.0,0.5303030303030303,0.0,0.29545454545454547,1.0,0.0,0.0,0.0,0.0,1.0,0.0,0.0,0.0,1.0\\r\\n534,0.6326530612244898,1.0,0.4230769230769229,0.48995983935742965,0.0,0.49242424242424243,1.0,0.5795454545454546,1.0,0.0,0.0,0.0,0.0,1.0,0.0,1.0,0.0,0.0\\r\\n90,0.4285714285714285,0.0,0.23076923076923062,0.43373493975903615,0.0,0.6818181818181819,0.0,0.29545454545454547,0.0,1.0,0.0,0.0,0.0,1.0,0.0,0.0,0.0,1.0\\r\\n75,0.36734693877551017,1.0,0.7435897435897434,0.25301204819277107,0.0,0.3484848484848485,0.0,0.29545454545454547,0.0,0.0,1.0,0.0,0.0,1.0,0.0,0.0,0.0,1.0\\r\\n280,0.6530612244897958,1.0,0.3589743589743588,0.5863453815261044,0.0,0.49242424242424243,0.0,0.29545454545454547,0.0,0.0,1.0,0.0,1.0,0.0,0.0,0.0,0.0,1.0\\r\\n889,0.6326530612244898,1.0,0.5384615384615383,0.4176706827309237,0.0,0.696969696969697,0.0,0.38636363636363635,0.0,0.0,0.0,1.0,0.0,1.0,0.0,0.0,0.0,1.0\\r\\n328,0.4897959183673468,1.0,0.038461538461538325,0.37043856574574624,1.0,0.09090909090909094,1.0,0.38636363636363635,1.0,0.0,0.0,0.0,0.0,1.0,0.0,0.0,1.0,0.0\\r\\n816,0.6122448979591837,1.0,0.4230769230769229,0.8032128514056225,0.0,0.7651515151515151,0.0,0.29545454545454547,1.0,0.0,0.0,0.0,1.0,0.0,0.0,0.0,0.0,1.0\\r\\n670,0.26530612244897955,0.0,0.16666666666666652,0.393574297188755,0.0,0.7424242424242424,0.0,0.29545454545454547,0.0,1.0,0.0,0.0,0.0,1.0,0.0,0.0,0.0,1.0\\r\\n700,0.2857142857142857,1.0,0.7179487179487178,0.5783132530120481,0.0,0.8181818181818183,0.0,0.38636363636363635,0.0,0.0,0.0,1.0,1.0,0.0,0.0,0.0,0.0,1.0\\r\\n820,0.4897959183673468,1.0,0.7692307692307692,0.7951807228915662,1.0,0.8181818181818183,0.0,0.4318181818181818,0.0,0.0,0.0,1.0,0.0,1.0,0.0,0.0,1.0,0.0\\r\\n548,0.7755102040816326,1.0,0.2564102564102564,0.6465863453815262,0.0,0.5303030303030303,0.0,0.46590909090909094,1.0,0.0,0.0,0.0,0.0,1.0,0.0,0.0,0.0,1.0\\r\\n804,0.857142857142857,1.0,0.8717948717948716,0.678714859437751,0.0,0.31818181818181823,1.0,0.625,0.0,0.0,1.0,0.0,0.0,1.0,0.0,0.0,1.0,0.0\\r\\n855,0.8163265306122449,1.0,0.5179040277079492,0.6987951807228916,1.0,0.6060606060606062,1.0,0.4772727272727273,0.0,0.0,1.0,0.0,1.0,0.0,0.0,0.0,1.0,0.0\\r\\n538,0.5306122448979591,1.0,0.487179487179487,0.4096385542168674,1.0,0.31818181818181823,1.0,0.5227272727272727,1.0,0.0,0.0,0.0,0.0,1.0,0.0,0.0,1.0,0.0\\r\\n648,0.6326530612244898,1.0,0.9999999999999998,0.9076305220883534,0.0,0.5303030303030303,1.0,0.6818181818181819,1.0,0.0,0.0,0.0,1.0,0.0,0.0,1.0,0.0,0.0\\r\\n299,0.3877551020408163,1.0,0.23076923076923062,0.37043856574574624,1.0,0.5984848484848486,0.0,0.5340909090909092,1.0,0.0,0.0,0.0,0.0,0.0,1.0,0.0,0.0,1.0\\r\\n528,0.4285714285714285,1.0,0.5,0.16867469879518077,0.0,0.4318181818181819,1.0,0.46590909090909094,0.0,0.0,1.0,0.0,0.0,1.0,0.0,0.0,1.0,0.0\\r\\n396,0.693877551020408,0.0,0.6153846153846152,0.37043856574574624,1.0,0.553030303030303,0.0,0.29545454545454547,0.0,0.0,0.0,1.0,0.0,1.0,0.0,0.0,1.0,0.0\\r\\n476,0.46938775510204067,1.0,0.5128205128205128,0.4738955823293172,1.0,0.5227272727272727,0.0,0.3068181818181818,1.0,0.0,0.0,0.0,1.0,0.0,0.0,0.0,0.0,1.0\\r\\n236,0.26530612244897955,1.0,0.3589743589743588,0.9477911646586346,0.0,0.36363636363636365,1.0,0.6363636363636364,1.0,0.0,0.0,0.0,0.0,1.0,0.0,0.0,1.0,0.0\\r\\n13,0.4285714285714285,1.0,0.6153846153846152,0.5381526104417671,0.0,0.5303030303030303,1.0,0.4090909090909091,1.0,0.0,0.0,0.0,0.0,1.0,0.0,0.0,1.0,0.0\\r\\n74,0.5510204081632653,1.0,0.6153846153846152,0.6746987951807228,0.0,0.43939393939393945,1.0,0.46590909090909094,1.0,0.0,0.0,0.0,0.0,1.0,0.0,0.0,1.0,0.0\\r\\n683,0.3265306122448979,0.0,0.33333333333333326,0.570281124497992,0.0,0.5984848484848486,0.0,0.3295454545454546,0.0,0.0,1.0,0.0,0.0,1.0,0.0,0.0,1.0,0.0\\r\\n226,0.510204081632653,1.0,0.3589743589743588,0.3815261044176707,0.0,0.5303030303030303,0.0,0.29545454545454547,0.0,0.0,1.0,0.0,0.0,1.0,0.0,0.0,0.0,1.0\\r\\n431,0.693877551020408,1.0,0.3589743589743588,0.48192771084337344,0.0,0.12121212121212122,0.0,0.29545454545454547,1.0,0.0,0.0,0.0,0.0,0.0,1.0,0.0,0.0,1.0\\r\\n59,0.4897959183673468,1.0,0.2564102564102564,0.9718875502008033,0.0,0.19696969696969702,1.0,0.4090909090909091,1.0,0.0,0.0,0.0,0.0,0.0,1.0,0.0,1.0,0.0\\r\\n'"
      ]
     },
     "execution_count": 49,
     "metadata": {},
     "output_type": "execute_result"
    }
   ],
   "source": [
    "x_test.to_csv(index=True)"
   ]
  },
  {
   "cell_type": "code",
   "execution_count": 48,
   "metadata": {},
   "outputs": [
    {
     "data": {
      "text/plain": [
       "',HeartDisease\\r\\n349,1\\r\\n653,0\\r\\n7,0\\r\\n571,1\\r\\n171,0\\r\\n177,0\\r\\n546,1\\r\\n134,0\\r\\n887,1\\r\\n580,1\\r\\n531,1\\r\\n726,0\\r\\n195,0\\r\\n384,1\\r\\n805,0\\r\\n306,1\\r\\n910,0\\r\\n739,0\\r\\n267,0\\r\\n335,1\\r\\n85,1\\r\\n172,0\\r\\n676,1\\r\\n145,0\\r\\n369,1\\r\\n669,0\\r\\n675,0\\r\\n885,0\\r\\n532,1\\r\\n164,0\\r\\n138,1\\r\\n565,1\\r\\n838,1\\r\\n753,0\\r\\n204,0\\r\\n397,1\\r\\n270,0\\r\\n329,1\\r\\n699,0\\r\\n719,1\\r\\n859,0\\r\\n853,0\\r\\n399,1\\r\\n185,1\\r\\n584,1\\r\\n469,0\\r\\n167,0\\r\\n5,0\\r\\n200,0\\r\\n239,1\\r\\n246,1\\r\\n291,0\\r\\n41,1\\r\\n662,1\\r\\n300,1\\r\\n317,1\\r\\n344,1\\r\\n188,0\\r\\n196,0\\r\\n845,1\\r\\n303,1\\r\\n210,1\\r\\n578,1\\r\\n741,1\\r\\n558,1\\r\\n511,1\\r\\n684,1\\r\\n912,1\\r\\n279,0\\r\\n48,0\\r\\n556,0\\r\\n716,1\\r\\n712,1\\r\\n374,1\\r\\n586,1\\r\\n221,1\\r\\n35,0\\r\\n348,1\\r\\n694,0\\r\\n819,1\\r\\n229,0\\r\\n406,1\\r\\n4,0\\r\\n310,0\\r\\n734,1\\r\\n871,0\\r\\n783,0\\r\\n307,0\\r\\n498,1\\r\\n50,1\\r\\n184,0\\r\\n814,1\\r\\n602,1\\r\\n560,0\\r\\n370,1\\r\\n261,0\\r\\n162,0\\r\\n521,1\\r\\n203,0\\r\\n57,1\\r\\n252,0\\r\\n478,1\\r\\n659,1\\r\\n482,1\\r\\n614,1\\r\\n643,1\\r\\n644,0\\r\\n55,0\\r\\n249,1\\r\\n316,1\\r\\n619,0\\r\\n632,1\\r\\n103,1\\r\\n388,1\\r\\n272,1\\r\\n725,1\\r\\n585,1\\r\\n52,0\\r\\n131,1\\r\\n759,1\\r\\n610,1\\r\\n54,0\\r\\n117,1\\r\\n738,0\\r\\n170,0\\r\\n389,1\\r\\n785,0\\r\\n520,0\\r\\n266,1\\r\\n31,0\\r\\n415,1\\r\\n821,0\\r\\n36,1\\r\\n832,0\\r\\n633,0\\r\\n704,1\\r\\n260,0\\r\\n318,1\\r\\n100,1\\r\\n147,0\\r\\n626,0\\r\\n161,1\\r\\n227,1\\r\\n618,0\\r\\n594,1\\r\\n336,0\\r\\n78,0\\r\\n781,0\\r\\n701,0\\r\\n79,1\\r\\n722,1\\r\\n543,1\\r\\n285,0\\r\\n728,0\\r\\n577,1\\r\\n696,1\\r\\n209,1\\r\\n91,0\\r\\n534,1\\r\\n90,0\\r\\n75,0\\r\\n280,0\\r\\n889,1\\r\\n328,1\\r\\n816,1\\r\\n670,0\\r\\n700,0\\r\\n820,0\\r\\n548,1\\r\\n804,1\\r\\n855,1\\r\\n538,1\\r\\n648,1\\r\\n299,1\\r\\n528,1\\r\\n396,1\\r\\n476,0\\r\\n236,1\\r\\n13,1\\r\\n74,1\\r\\n683,0\\r\\n226,0\\r\\n431,0\\r\\n59,1\\r\\n'"
      ]
     },
     "execution_count": 48,
     "metadata": {},
     "output_type": "execute_result"
    }
   ],
   "source": [
    "y_test.to_csv(sep = ',',index=True)"
   ]
  },
  {
   "cell_type": "code",
   "execution_count": null,
   "metadata": {},
   "outputs": [],
   "source": []
  }
 ],
 "metadata": {
  "kernelspec": {
   "display_name": "Python 3",
   "language": "python",
   "name": "python3"
  },
  "language_info": {
   "codemirror_mode": {
    "name": "ipython",
    "version": 3
   },
   "file_extension": ".py",
   "mimetype": "text/x-python",
   "name": "python",
   "nbconvert_exporter": "python",
   "pygments_lexer": "ipython3",
   "version": "3.8.5"
  }
 },
 "nbformat": 4,
 "nbformat_minor": 5
}
